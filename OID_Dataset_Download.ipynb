{
  "nbformat": 4,
  "nbformat_minor": 0,
  "metadata": {
    "colab": {
      "name": "OID Dataset Download.ipynb",
      "version": "0.3.2",
      "provenance": [],
      "collapsed_sections": [],
      "include_colab_link": true
    },
    "kernelspec": {
      "name": "python3",
      "display_name": "Python 3"
    },
    "accelerator": "GPU"
  },
  "cells": [
    {
      "cell_type": "markdown",
      "metadata": {
        "id": "view-in-github",
        "colab_type": "text"
      },
      "source": [
        "<a href=\"https://colab.research.google.com/github/eohomegrownapps/20twenty20/blob/master/OID_Dataset_Download.ipynb\" target=\"_parent\"><img src=\"https://colab.research.google.com/assets/colab-badge.svg\" alt=\"Open In Colab\"/></a>"
      ]
    },
    {
      "metadata": {
        "id": "sxYv9vQYHaHs",
        "colab_type": "code",
        "outputId": "bae0ff83-660f-4da5-a1b5-c820ae6b9cfa",
        "colab": {
          "base_uri": "https://localhost:8080/",
          "height": 583
        }
      },
      "cell_type": "code",
      "source": [
        "#!/usr/bin/env bash\n",
        "# downloads and extracts the openimages bounding box annotations and image path files\n",
        "!mkdir data\n",
        "!wget http://storage.googleapis.com/openimages/2017_07/images_2017_07.tar.gz\n",
        "!tar -xf images_2017_07.tar.gz\n",
        "!mv 2017_07 data/images\n",
        "!rm images_2017_07.tar.gz\n",
        "\n",
        "!wget http://storage.googleapis.com/openimages/2017_07/annotations_human_bbox_2017_07.tar.gz\n",
        "!tar -xf annotations_human_bbox_2017_07.tar.gz\n",
        "!mv 2017_07 data/bbox_annotations\n",
        "!rm annotations_human_bbox_2017_07.tar.gz\n",
        "\n",
        "!wget http://storage.googleapis.com/openimages/2017_07/classes_2017_07.tar.gz\n",
        "!tar -xf classes_2017_07.tar.gz\n",
        "!mv 2017_07 data/classes\n",
        "!rm classes_2017_07.tar.gz"
      ],
      "execution_count": 0,
      "outputs": [
        {
          "output_type": "stream",
          "text": [
            "--2019-02-21 12:28:06--  http://storage.googleapis.com/openimages/2017_07/images_2017_07.tar.gz\n",
            "Resolving storage.googleapis.com (storage.googleapis.com)... 108.177.121.128, 2607:f8b0:4001:c08::80\n",
            "Connecting to storage.googleapis.com (storage.googleapis.com)|108.177.121.128|:80... connected.\n",
            "HTTP request sent, awaiting response... 200 OK\n",
            "Length: 1038132176 (990M) [application/gzip]\n",
            "Saving to: ‘images_2017_07.tar.gz’\n",
            "\n",
            "images_2017_07.tar. 100%[===================>] 990.04M  82.4MB/s    in 12s     \n",
            "\n",
            "2019-02-21 12:28:18 (82.4 MB/s) - ‘images_2017_07.tar.gz’ saved [1038132176/1038132176]\n",
            "\n",
            "--2019-02-21 12:28:56--  http://storage.googleapis.com/openimages/2017_07/annotations_human_bbox_2017_07.tar.gz\n",
            "Resolving storage.googleapis.com (storage.googleapis.com)... 64.233.191.128, 2607:f8b0:4001:c08::80\n",
            "Connecting to storage.googleapis.com (storage.googleapis.com)|64.233.191.128|:80... connected.\n",
            "HTTP request sent, awaiting response... 200 OK\n",
            "Length: 38732419 (37M) [application/gzip]\n",
            "Saving to: ‘annotations_human_bbox_2017_07.tar.gz’\n",
            "\n",
            "annotations_human_b 100%[===================>]  36.94M  75.6MB/s    in 0.5s    \n",
            "\n",
            "2019-02-21 12:28:57 (75.6 MB/s) - ‘annotations_human_bbox_2017_07.tar.gz’ saved [38732419/38732419]\n",
            "\n",
            "--2019-02-21 12:29:01--  http://storage.googleapis.com/openimages/2017_07/classes_2017_07.tar.gz\n",
            "Resolving storage.googleapis.com (storage.googleapis.com)... 74.125.70.128, 2607:f8b0:4001:c14::80\n",
            "Connecting to storage.googleapis.com (storage.googleapis.com)|74.125.70.128|:80... connected.\n",
            "HTTP request sent, awaiting response... 200 OK\n",
            "Length: 300021 (293K) [application/gzip]\n",
            "Saving to: ‘classes_2017_07.tar.gz’\n",
            "\n",
            "classes_2017_07.tar 100%[===================>] 292.99K  --.-KB/s    in 0.002s  \n",
            "\n",
            "2019-02-21 12:29:01 (178 MB/s) - ‘classes_2017_07.tar.gz’ saved [300021/300021]\n",
            "\n"
          ],
          "name": "stdout"
        }
      ]
    },
    {
      "metadata": {
        "id": "b4Q_rHWYPika",
        "colab_type": "code",
        "colab": {}
      },
      "cell_type": "code",
      "source": [
        "classdict = dict()\n",
        "with open(\"data/classes/class-descriptions.csv\",\"r\") as f:\n",
        "  l = f.read()\n",
        "lines = l.split(\"\\n\")\n",
        "for i in lines:\n",
        "  sp = i.split(\",\")\n",
        "  try:\n",
        "    classdict[sp[0]]=sp[1]\n",
        "  except:\n",
        "    pass"
      ],
      "execution_count": 0,
      "outputs": []
    },
    {
      "metadata": {
        "id": "QhiHyzy8RJPb",
        "colab_type": "code",
        "outputId": "403f589e-4c29-4a4f-8c24-0718ba67748e",
        "colab": {
          "base_uri": "https://localhost:8080/",
          "height": 51
        }
      },
      "cell_type": "code",
      "source": [
        "ls data/classes"
      ],
      "execution_count": 0,
      "outputs": [
        {
          "output_type": "stream",
          "text": [
            "class-descriptions.csv      classes-bbox.txt       classes.txt\n",
            "classes-bbox-trainable.txt  classes-trainable.txt\n"
          ],
          "name": "stdout"
        }
      ]
    },
    {
      "metadata": {
        "id": "Z6j6mbQbQ6wk",
        "colab_type": "code",
        "outputId": "cd77f6bf-99de-452f-e325-103e1b777548",
        "colab": {
          "base_uri": "https://localhost:8080/",
          "height": 54
        }
      },
      "cell_type": "code",
      "source": [
        "'''\n",
        "with open(\"data/classes/classes-bbox-trainable.txt\",\"r\") as f:\n",
        "  l = f.read()\n",
        "lines = l.split(\"\\n\")\n",
        "for i in lines:\n",
        "  print([i,classdict[i]])\n",
        "'''"
      ],
      "execution_count": 0,
      "outputs": [
        {
          "output_type": "execute_result",
          "data": {
            "text/plain": [
              "'\\nwith open(\"data/classes/classes-bbox-trainable.txt\",\"r\") as f:\\n  l = f.read()\\nlines = l.split(\"\\n\")\\nfor i in lines:\\n  print([i,classdict[i]])\\n'"
            ]
          },
          "metadata": {
            "tags": []
          },
          "execution_count": 4
        }
      ]
    },
    {
      "metadata": {
        "id": "X0iuQHqHR6h6",
        "colab_type": "text"
      },
      "cell_type": "markdown",
      "source": [
        "## Classes to use:\n",
        "\n",
        "```\n",
        "['/m/0k4j', 'Car']\n",
        "['/m/01g317', 'Person']\n",
        "['/m/0199g', 'Bicycle']\n",
        "['/m/0bt9lr', 'Dog']\n",
        "```\n",
        "\n",
        "Now, we find the bounding boxes of these classes."
      ]
    },
    {
      "metadata": {
        "id": "6Z8tVGCWnAgN",
        "colab_type": "code",
        "outputId": "f7f17f9d-4a94-47b9-ce7a-0b8880bdffff",
        "colab": {
          "base_uri": "https://localhost:8080/",
          "height": 34
        }
      },
      "cell_type": "code",
      "source": [
        "!ls data/bbox_annotations/train"
      ],
      "execution_count": 0,
      "outputs": [
        {
          "output_type": "stream",
          "text": [
            "annotations-human-bbox.csv\n"
          ],
          "name": "stdout"
        }
      ]
    },
    {
      "metadata": {
        "id": "mLjbHnoyLC9P",
        "colab_type": "code",
        "colab": {}
      },
      "cell_type": "code",
      "source": [
        "import pandas as pd"
      ],
      "execution_count": 0,
      "outputs": []
    },
    {
      "metadata": {
        "id": "0EXNsV9AZiDe",
        "colab_type": "code",
        "colab": {}
      },
      "cell_type": "code",
      "source": [
        "df = pd.read_csv('data/bbox_annotations/train/annotations-human-bbox.csv')"
      ],
      "execution_count": 0,
      "outputs": []
    },
    {
      "metadata": {
        "id": "LYYbAzwBuXmD",
        "colab_type": "code",
        "outputId": "d477b138-c1af-4976-d73f-858038b6b7a6",
        "colab": {
          "base_uri": "https://localhost:8080/",
          "height": 203
        }
      },
      "cell_type": "code",
      "source": [
        "df.head()"
      ],
      "execution_count": 0,
      "outputs": [
        {
          "output_type": "execute_result",
          "data": {
            "text/html": [
              "<div>\n",
              "<style scoped>\n",
              "    .dataframe tbody tr th:only-of-type {\n",
              "        vertical-align: middle;\n",
              "    }\n",
              "\n",
              "    .dataframe tbody tr th {\n",
              "        vertical-align: top;\n",
              "    }\n",
              "\n",
              "    .dataframe thead th {\n",
              "        text-align: right;\n",
              "    }\n",
              "</style>\n",
              "<table border=\"1\" class=\"dataframe\">\n",
              "  <thead>\n",
              "    <tr style=\"text-align: right;\">\n",
              "      <th></th>\n",
              "      <th>ImageID</th>\n",
              "      <th>Source</th>\n",
              "      <th>LabelName</th>\n",
              "      <th>Confidence</th>\n",
              "      <th>XMin</th>\n",
              "      <th>XMax</th>\n",
              "      <th>YMin</th>\n",
              "      <th>YMax</th>\n",
              "    </tr>\n",
              "  </thead>\n",
              "  <tbody>\n",
              "    <tr>\n",
              "      <th>0</th>\n",
              "      <td>000002b66c9c498e</td>\n",
              "      <td>human</td>\n",
              "      <td>/m/01g317</td>\n",
              "      <td>1</td>\n",
              "      <td>0.602</td>\n",
              "      <td>0.766</td>\n",
              "      <td>0.309</td>\n",
              "      <td>0.489</td>\n",
              "    </tr>\n",
              "    <tr>\n",
              "      <th>1</th>\n",
              "      <td>000002b66c9c498e</td>\n",
              "      <td>human</td>\n",
              "      <td>/m/01g317</td>\n",
              "      <td>1</td>\n",
              "      <td>0.611</td>\n",
              "      <td>0.750</td>\n",
              "      <td>0.287</td>\n",
              "      <td>0.469</td>\n",
              "    </tr>\n",
              "    <tr>\n",
              "      <th>2</th>\n",
              "      <td>000002b66c9c498e</td>\n",
              "      <td>human</td>\n",
              "      <td>/m/01mzpv</td>\n",
              "      <td>1</td>\n",
              "      <td>0.009</td>\n",
              "      <td>0.119</td>\n",
              "      <td>0.750</td>\n",
              "      <td>0.920</td>\n",
              "    </tr>\n",
              "    <tr>\n",
              "      <th>3</th>\n",
              "      <td>000002b66c9c498e</td>\n",
              "      <td>human</td>\n",
              "      <td>/m/01mzpv</td>\n",
              "      <td>1</td>\n",
              "      <td>0.019</td>\n",
              "      <td>0.098</td>\n",
              "      <td>0.767</td>\n",
              "      <td>0.892</td>\n",
              "    </tr>\n",
              "    <tr>\n",
              "      <th>4</th>\n",
              "      <td>000002b66c9c498e</td>\n",
              "      <td>human</td>\n",
              "      <td>/m/0270h</td>\n",
              "      <td>1</td>\n",
              "      <td>0.522</td>\n",
              "      <td>0.917</td>\n",
              "      <td>0.675</td>\n",
              "      <td>0.966</td>\n",
              "    </tr>\n",
              "  </tbody>\n",
              "</table>\n",
              "</div>"
            ],
            "text/plain": [
              "            ImageID Source  LabelName  Confidence   XMin   XMax   YMin   YMax\n",
              "0  000002b66c9c498e  human  /m/01g317           1  0.602  0.766  0.309  0.489\n",
              "1  000002b66c9c498e  human  /m/01g317           1  0.611  0.750  0.287  0.469\n",
              "2  000002b66c9c498e  human  /m/01mzpv           1  0.009  0.119  0.750  0.920\n",
              "3  000002b66c9c498e  human  /m/01mzpv           1  0.019  0.098  0.767  0.892\n",
              "4  000002b66c9c498e  human   /m/0270h           1  0.522  0.917  0.675  0.966"
            ]
          },
          "metadata": {
            "tags": []
          },
          "execution_count": 4
        }
      ]
    },
    {
      "metadata": {
        "id": "CjngbWr5veYk",
        "colab_type": "code",
        "outputId": "4fb29307-a1e3-499c-faeb-f85ad7c9b40b",
        "colab": {
          "base_uri": "https://localhost:8080/",
          "height": 295
        }
      },
      "cell_type": "code",
      "source": [
        "df.describe()"
      ],
      "execution_count": 0,
      "outputs": [
        {
          "output_type": "execute_result",
          "data": {
            "text/html": [
              "<div>\n",
              "<style scoped>\n",
              "    .dataframe tbody tr th:only-of-type {\n",
              "        vertical-align: middle;\n",
              "    }\n",
              "\n",
              "    .dataframe tbody tr th {\n",
              "        vertical-align: top;\n",
              "    }\n",
              "\n",
              "    .dataframe thead th {\n",
              "        text-align: right;\n",
              "    }\n",
              "</style>\n",
              "<table border=\"1\" class=\"dataframe\">\n",
              "  <thead>\n",
              "    <tr style=\"text-align: right;\">\n",
              "      <th></th>\n",
              "      <th>Confidence</th>\n",
              "      <th>XMin</th>\n",
              "      <th>XMax</th>\n",
              "      <th>YMin</th>\n",
              "      <th>YMax</th>\n",
              "    </tr>\n",
              "  </thead>\n",
              "  <tbody>\n",
              "    <tr>\n",
              "      <th>count</th>\n",
              "      <td>1240316.0</td>\n",
              "      <td>1.240316e+06</td>\n",
              "      <td>1.240316e+06</td>\n",
              "      <td>1.240316e+06</td>\n",
              "      <td>1.240316e+06</td>\n",
              "    </tr>\n",
              "    <tr>\n",
              "      <th>mean</th>\n",
              "      <td>1.0</td>\n",
              "      <td>3.166137e-01</td>\n",
              "      <td>6.826956e-01</td>\n",
              "      <td>2.966941e-01</td>\n",
              "      <td>7.937278e-01</td>\n",
              "    </tr>\n",
              "    <tr>\n",
              "      <th>std</th>\n",
              "      <td>0.0</td>\n",
              "      <td>2.404756e-01</td>\n",
              "      <td>2.414826e-01</td>\n",
              "      <td>2.189263e-01</td>\n",
              "      <td>2.100083e-01</td>\n",
              "    </tr>\n",
              "    <tr>\n",
              "      <th>min</th>\n",
              "      <td>1.0</td>\n",
              "      <td>0.000000e+00</td>\n",
              "      <td>4.100000e-02</td>\n",
              "      <td>0.000000e+00</td>\n",
              "      <td>4.300000e-02</td>\n",
              "    </tr>\n",
              "    <tr>\n",
              "      <th>25%</th>\n",
              "      <td>1.0</td>\n",
              "      <td>1.030000e-01</td>\n",
              "      <td>5.050000e-01</td>\n",
              "      <td>1.170000e-01</td>\n",
              "      <td>6.660000e-01</td>\n",
              "    </tr>\n",
              "    <tr>\n",
              "      <th>50%</th>\n",
              "      <td>1.0</td>\n",
              "      <td>2.810000e-01</td>\n",
              "      <td>7.180000e-01</td>\n",
              "      <td>2.570000e-01</td>\n",
              "      <td>8.690000e-01</td>\n",
              "    </tr>\n",
              "    <tr>\n",
              "      <th>75%</th>\n",
              "      <td>1.0</td>\n",
              "      <td>4.930000e-01</td>\n",
              "      <td>8.980000e-01</td>\n",
              "      <td>4.410000e-01</td>\n",
              "      <td>9.700000e-01</td>\n",
              "    </tr>\n",
              "    <tr>\n",
              "      <th>max</th>\n",
              "      <td>1.0</td>\n",
              "      <td>9.480000e-01</td>\n",
              "      <td>1.000000e+00</td>\n",
              "      <td>9.450000e-01</td>\n",
              "      <td>1.000000e+00</td>\n",
              "    </tr>\n",
              "  </tbody>\n",
              "</table>\n",
              "</div>"
            ],
            "text/plain": [
              "       Confidence          XMin          XMax          YMin          YMax\n",
              "count   1240316.0  1.240316e+06  1.240316e+06  1.240316e+06  1.240316e+06\n",
              "mean          1.0  3.166137e-01  6.826956e-01  2.966941e-01  7.937278e-01\n",
              "std           0.0  2.404756e-01  2.414826e-01  2.189263e-01  2.100083e-01\n",
              "min           1.0  0.000000e+00  4.100000e-02  0.000000e+00  4.300000e-02\n",
              "25%           1.0  1.030000e-01  5.050000e-01  1.170000e-01  6.660000e-01\n",
              "50%           1.0  2.810000e-01  7.180000e-01  2.570000e-01  8.690000e-01\n",
              "75%           1.0  4.930000e-01  8.980000e-01  4.410000e-01  9.700000e-01\n",
              "max           1.0  9.480000e-01  1.000000e+00  9.450000e-01  1.000000e+00"
            ]
          },
          "metadata": {
            "tags": []
          },
          "execution_count": 5
        }
      ]
    },
    {
      "metadata": {
        "id": "e1KpPspXuw8b",
        "colab_type": "code",
        "colab": {}
      },
      "cell_type": "code",
      "source": [
        "classes = ['/m/0k4j','/m/01g317','/m/0199g','/m/0bt9lr']"
      ],
      "execution_count": 0,
      "outputs": []
    },
    {
      "metadata": {
        "id": "bnVf1g5oueXj",
        "colab_type": "code",
        "colab": {}
      },
      "cell_type": "code",
      "source": [
        "training_df = df.loc[df[\"LabelName\"].isin(classes)]"
      ],
      "execution_count": 0,
      "outputs": []
    },
    {
      "metadata": {
        "id": "PNB9VhQ9ulyV",
        "colab_type": "code",
        "outputId": "963eb99f-82da-4337-bf72-7c73cc16c23d",
        "colab": {
          "base_uri": "https://localhost:8080/",
          "height": 295
        }
      },
      "cell_type": "code",
      "source": [
        "training_df.describe()"
      ],
      "execution_count": 0,
      "outputs": [
        {
          "output_type": "execute_result",
          "data": {
            "text/html": [
              "<div>\n",
              "<style scoped>\n",
              "    .dataframe tbody tr th:only-of-type {\n",
              "        vertical-align: middle;\n",
              "    }\n",
              "\n",
              "    .dataframe tbody tr th {\n",
              "        vertical-align: top;\n",
              "    }\n",
              "\n",
              "    .dataframe thead th {\n",
              "        text-align: right;\n",
              "    }\n",
              "</style>\n",
              "<table border=\"1\" class=\"dataframe\">\n",
              "  <thead>\n",
              "    <tr style=\"text-align: right;\">\n",
              "      <th></th>\n",
              "      <th>Confidence</th>\n",
              "      <th>XMin</th>\n",
              "      <th>XMax</th>\n",
              "      <th>YMin</th>\n",
              "      <th>YMax</th>\n",
              "    </tr>\n",
              "  </thead>\n",
              "  <tbody>\n",
              "    <tr>\n",
              "      <th>count</th>\n",
              "      <td>138838.0</td>\n",
              "      <td>138838.000000</td>\n",
              "      <td>138838.000000</td>\n",
              "      <td>138838.000000</td>\n",
              "      <td>138838.000000</td>\n",
              "    </tr>\n",
              "    <tr>\n",
              "      <th>mean</th>\n",
              "      <td>1.0</td>\n",
              "      <td>0.314175</td>\n",
              "      <td>0.686473</td>\n",
              "      <td>0.299390</td>\n",
              "      <td>0.833988</td>\n",
              "    </tr>\n",
              "    <tr>\n",
              "      <th>std</th>\n",
              "      <td>0.0</td>\n",
              "      <td>0.245984</td>\n",
              "      <td>0.246209</td>\n",
              "      <td>0.216464</td>\n",
              "      <td>0.169735</td>\n",
              "    </tr>\n",
              "    <tr>\n",
              "      <th>min</th>\n",
              "      <td>1.0</td>\n",
              "      <td>0.000000</td>\n",
              "      <td>0.043000</td>\n",
              "      <td>0.000000</td>\n",
              "      <td>0.078000</td>\n",
              "    </tr>\n",
              "    <tr>\n",
              "      <th>25%</th>\n",
              "      <td>1.0</td>\n",
              "      <td>0.098000</td>\n",
              "      <td>0.508000</td>\n",
              "      <td>0.121000</td>\n",
              "      <td>0.746000</td>\n",
              "    </tr>\n",
              "    <tr>\n",
              "      <th>50%</th>\n",
              "      <td>1.0</td>\n",
              "      <td>0.265000</td>\n",
              "      <td>0.736000</td>\n",
              "      <td>0.260000</td>\n",
              "      <td>0.887000</td>\n",
              "    </tr>\n",
              "    <tr>\n",
              "      <th>75%</th>\n",
              "      <td>1.0</td>\n",
              "      <td>0.492000</td>\n",
              "      <td>0.903000</td>\n",
              "      <td>0.444000</td>\n",
              "      <td>0.971000</td>\n",
              "    </tr>\n",
              "    <tr>\n",
              "      <th>max</th>\n",
              "      <td>1.0</td>\n",
              "      <td>0.944000</td>\n",
              "      <td>1.000000</td>\n",
              "      <td>0.939000</td>\n",
              "      <td>1.000000</td>\n",
              "    </tr>\n",
              "  </tbody>\n",
              "</table>\n",
              "</div>"
            ],
            "text/plain": [
              "       Confidence           XMin           XMax           YMin           YMax\n",
              "count    138838.0  138838.000000  138838.000000  138838.000000  138838.000000\n",
              "mean          1.0       0.314175       0.686473       0.299390       0.833988\n",
              "std           0.0       0.245984       0.246209       0.216464       0.169735\n",
              "min           1.0       0.000000       0.043000       0.000000       0.078000\n",
              "25%           1.0       0.098000       0.508000       0.121000       0.746000\n",
              "50%           1.0       0.265000       0.736000       0.260000       0.887000\n",
              "75%           1.0       0.492000       0.903000       0.444000       0.971000\n",
              "max           1.0       0.944000       1.000000       0.939000       1.000000"
            ]
          },
          "metadata": {
            "tags": []
          },
          "execution_count": 8
        }
      ]
    },
    {
      "metadata": {
        "id": "_SbJlNqPvbqW",
        "colab_type": "code",
        "colab": {}
      },
      "cell_type": "code",
      "source": [
        "annotations = training_df.to_dict('records')"
      ],
      "execution_count": 0,
      "outputs": []
    },
    {
      "metadata": {
        "id": "dw_CTKdov_Hj",
        "colab_type": "code",
        "outputId": "3520f3c2-5156-456a-d3e2-98f73d9fb97d",
        "colab": {
          "base_uri": "https://localhost:8080/",
          "height": 154
        }
      },
      "cell_type": "code",
      "source": [
        "annotations[0]"
      ],
      "execution_count": 0,
      "outputs": [
        {
          "output_type": "execute_result",
          "data": {
            "text/plain": [
              "{'Confidence': 1,\n",
              " 'ImageID': '000002b66c9c498e',\n",
              " 'LabelName': '/m/01g317',\n",
              " 'Source': 'human',\n",
              " 'XMax': 0.7659999999999999,\n",
              " 'XMin': 0.602,\n",
              " 'YMax': 0.489,\n",
              " 'YMin': 0.309}"
            ]
          },
          "metadata": {
            "tags": []
          },
          "execution_count": 10
        }
      ]
    },
    {
      "metadata": {
        "id": "VmKW3wFGP_O0",
        "colab_type": "text"
      },
      "cell_type": "markdown",
      "source": [
        "## Ensuring Balanced Class Sizes"
      ]
    },
    {
      "metadata": {
        "id": "WZDqHP-XP--7",
        "colab_type": "code",
        "outputId": "3d96e4a5-db0e-42ab-db1d-bf9814c93c86",
        "colab": {
          "base_uri": "https://localhost:8080/",
          "height": 120
        }
      },
      "cell_type": "code",
      "source": [
        "training_df.groupby('LabelName')['ImageID'].nunique()"
      ],
      "execution_count": 0,
      "outputs": [
        {
          "output_type": "execute_result",
          "data": {
            "text/plain": [
              "LabelName\n",
              "/m/0199g      5062\n",
              "/m/01g317    91469\n",
              "/m/0bt9lr     6923\n",
              "/m/0k4j      35163\n",
              "Name: ImageID, dtype: int64"
            ]
          },
          "metadata": {
            "tags": []
          },
          "execution_count": 11
        }
      ]
    },
    {
      "metadata": {
        "id": "1jsUqCoqQn_Q",
        "colab_type": "text"
      },
      "cell_type": "markdown",
      "source": [
        "`['/m/0k4j', 'Car']\n",
        "['/m/01g317', 'Person']\n",
        "['/m/0199g', 'Bicycle']\n",
        "['/m/0bt9lr', 'Dog']`\n",
        " \n",
        " \n",
        "We need to cut down the two other classes to around 5000 images each."
      ]
    },
    {
      "metadata": {
        "id": "5A8L4TSeQr2k",
        "colab_type": "code",
        "colab": {}
      },
      "cell_type": "code",
      "source": [
        "images_included = training_df[training_df[\"LabelName\"].isin([\"/m/0199g\",\"/m/0bt9lr\"])][\"ImageID\"].unique().tolist()"
      ],
      "execution_count": 0,
      "outputs": []
    },
    {
      "metadata": {
        "id": "kwxg9_XgVu_-",
        "colab_type": "code",
        "outputId": "c81d2bcb-d934-4fdf-f6c8-36c9497c456a",
        "colab": {
          "base_uri": "https://localhost:8080/",
          "height": 34
        }
      },
      "cell_type": "code",
      "source": [
        "len(images_included)"
      ],
      "execution_count": 0,
      "outputs": [
        {
          "output_type": "execute_result",
          "data": {
            "text/plain": [
              "11976"
            ]
          },
          "metadata": {
            "tags": []
          },
          "execution_count": 13
        }
      ]
    },
    {
      "metadata": {
        "id": "6rj-kW25Vc00",
        "colab_type": "code",
        "colab": {}
      },
      "cell_type": "code",
      "source": [
        "training_bikesdogs = training_df[training_df[\"ImageID\"].isin(images_included)]"
      ],
      "execution_count": 0,
      "outputs": []
    },
    {
      "metadata": {
        "id": "hGJzL12-YE0N",
        "colab_type": "code",
        "outputId": "91054a6e-f974-421f-9ca2-c2dcf760208d",
        "colab": {
          "base_uri": "https://localhost:8080/",
          "height": 120
        }
      },
      "cell_type": "code",
      "source": [
        "training_bikesdogs.groupby('LabelName')['ImageID'].nunique()"
      ],
      "execution_count": 0,
      "outputs": [
        {
          "output_type": "execute_result",
          "data": {
            "text/plain": [
              "LabelName\n",
              "/m/0199g     5062\n",
              "/m/01g317    1833\n",
              "/m/0bt9lr    6923\n",
              "/m/0k4j       325\n",
              "Name: ImageID, dtype: int64"
            ]
          },
          "metadata": {
            "tags": []
          },
          "execution_count": 15
        }
      ]
    },
    {
      "metadata": {
        "id": "cl-9gyM8MNwZ",
        "colab_type": "code",
        "colab": {}
      },
      "cell_type": "code",
      "source": [
        "training_not_included = training_df[~training_df[\"ImageID\"].isin(images_included)]"
      ],
      "execution_count": 0,
      "outputs": []
    },
    {
      "metadata": {
        "id": "MGjlEKwCVpCA",
        "colab_type": "code",
        "outputId": "ab64c61f-88eb-4bef-e7b9-7748e493b3ab",
        "colab": {
          "base_uri": "https://localhost:8080/",
          "height": 34
        }
      },
      "cell_type": "code",
      "source": [
        "training_not_included.shape"
      ],
      "execution_count": 0,
      "outputs": [
        {
          "output_type": "execute_result",
          "data": {
            "text/plain": [
              "(124649, 8)"
            ]
          },
          "metadata": {
            "tags": []
          },
          "execution_count": 17
        }
      ]
    },
    {
      "metadata": {
        "id": "iEzbmmg3Hxhw",
        "colab_type": "code",
        "colab": {}
      },
      "cell_type": "code",
      "source": [
        "import random"
      ],
      "execution_count": 0,
      "outputs": []
    },
    {
      "metadata": {
        "id": "8VeG89WPMgtr",
        "colab_type": "code",
        "colab": {}
      },
      "cell_type": "code",
      "source": [
        "not_included_ids = training_not_included[\"ImageID\"].unique().tolist()"
      ],
      "execution_count": 0,
      "outputs": []
    },
    {
      "metadata": {
        "id": "zH_upK2bVrfx",
        "colab_type": "code",
        "colab": {}
      },
      "cell_type": "code",
      "source": [
        "selectlist = random.sample(training_not_included[training_not_included[\"LabelName\"]==\"/m/0k4j\"][\"ImageID\"].unique().tolist(),5000)\n",
        "tni_0k4j = training_not_included[training_not_included[\"ImageID\"].isin(selectlist)]"
      ],
      "execution_count": 0,
      "outputs": []
    },
    {
      "metadata": {
        "id": "5l76qurIMzqa",
        "colab_type": "code",
        "outputId": "d9236084-1327-48ae-e13e-49545441cf2d",
        "colab": {
          "base_uri": "https://localhost:8080/",
          "height": 86
        }
      },
      "cell_type": "code",
      "source": [
        "tni_0k4j.groupby('LabelName')['ImageID'].nunique()"
      ],
      "execution_count": 0,
      "outputs": [
        {
          "output_type": "execute_result",
          "data": {
            "text/plain": [
              "LabelName\n",
              "/m/01g317     275\n",
              "/m/0k4j      5000\n",
              "Name: ImageID, dtype: int64"
            ]
          },
          "metadata": {
            "tags": []
          },
          "execution_count": 21
        }
      ]
    },
    {
      "metadata": {
        "id": "BnzRPZ1YNcId",
        "colab_type": "code",
        "colab": {}
      },
      "cell_type": "code",
      "source": [
        "ims01g317=list(set(training_df['ImageID'].unique().tolist()) - set(images_included) - set(selectlist))"
      ],
      "execution_count": 0,
      "outputs": []
    },
    {
      "metadata": {
        "id": "fCMtzgtiClL0",
        "colab_type": "code",
        "colab": {}
      },
      "cell_type": "code",
      "source": [
        "tni_01g317_list = random.sample(training_df[(training_df[\"ImageID\"].isin(ims01g317)) & (training_df[\"LabelName\"]==\"/m/01g317\")][\"ImageID\"].unique().tolist(),5000)\n",
        "tni_01g317 = training_df[training_df[\"ImageID\"].isin(tni_01g317_list)]"
      ],
      "execution_count": 0,
      "outputs": []
    },
    {
      "metadata": {
        "id": "QpI73Vg0N4x3",
        "colab_type": "code",
        "outputId": "443f0f7b-cadd-407d-a39c-93792518727e",
        "colab": {
          "base_uri": "https://localhost:8080/",
          "height": 86
        }
      },
      "cell_type": "code",
      "source": [
        "tni_01g317.groupby('LabelName')['ImageID'].nunique()"
      ],
      "execution_count": 0,
      "outputs": [
        {
          "output_type": "execute_result",
          "data": {
            "text/plain": [
              "LabelName\n",
              "/m/01g317    5000\n",
              "/m/0k4j        90\n",
              "Name: ImageID, dtype: int64"
            ]
          },
          "metadata": {
            "tags": []
          },
          "execution_count": 24
        }
      ]
    },
    {
      "metadata": {
        "id": "ANRjS9mKDlvN",
        "colab_type": "code",
        "colab": {}
      },
      "cell_type": "code",
      "source": [
        "training_df = pd.concat([training_bikesdogs,tni_0k4j,tni_01g317])"
      ],
      "execution_count": 0,
      "outputs": []
    },
    {
      "metadata": {
        "id": "lz7-RgQVEBvj",
        "colab_type": "code",
        "colab": {}
      },
      "cell_type": "code",
      "source": [
        "training_df = training_df.sample(frac=1).reset_index(drop=True)"
      ],
      "execution_count": 0,
      "outputs": []
    },
    {
      "metadata": {
        "id": "TwpY2kxsD1BN",
        "colab_type": "code",
        "outputId": "9ca9e12a-4db9-4daa-c527-ce9cec42aa63",
        "colab": {
          "base_uri": "https://localhost:8080/",
          "height": 120
        }
      },
      "cell_type": "code",
      "source": [
        "training_df.groupby('LabelName')['ImageID'].nunique()"
      ],
      "execution_count": 0,
      "outputs": [
        {
          "output_type": "execute_result",
          "data": {
            "text/plain": [
              "LabelName\n",
              "/m/0199g     5062\n",
              "/m/01g317    7108\n",
              "/m/0bt9lr    6923\n",
              "/m/0k4j      5415\n",
              "Name: ImageID, dtype: int64"
            ]
          },
          "metadata": {
            "tags": []
          },
          "execution_count": 27
        }
      ]
    },
    {
      "metadata": {
        "id": "R6avtCNfEFtN",
        "colab_type": "code",
        "outputId": "9e2c6d21-cb19-4709-819a-5b1556f62fed",
        "colab": {
          "base_uri": "https://localhost:8080/",
          "height": 357
        }
      },
      "cell_type": "code",
      "source": [
        "training_df.head(10)"
      ],
      "execution_count": 0,
      "outputs": [
        {
          "output_type": "execute_result",
          "data": {
            "text/html": [
              "<div>\n",
              "<style scoped>\n",
              "    .dataframe tbody tr th:only-of-type {\n",
              "        vertical-align: middle;\n",
              "    }\n",
              "\n",
              "    .dataframe tbody tr th {\n",
              "        vertical-align: top;\n",
              "    }\n",
              "\n",
              "    .dataframe thead th {\n",
              "        text-align: right;\n",
              "    }\n",
              "</style>\n",
              "<table border=\"1\" class=\"dataframe\">\n",
              "  <thead>\n",
              "    <tr style=\"text-align: right;\">\n",
              "      <th></th>\n",
              "      <th>ImageID</th>\n",
              "      <th>Source</th>\n",
              "      <th>LabelName</th>\n",
              "      <th>Confidence</th>\n",
              "      <th>XMin</th>\n",
              "      <th>XMax</th>\n",
              "      <th>YMin</th>\n",
              "      <th>YMax</th>\n",
              "    </tr>\n",
              "  </thead>\n",
              "  <tbody>\n",
              "    <tr>\n",
              "      <th>0</th>\n",
              "      <td>400bc9e0aed700ec</td>\n",
              "      <td>human</td>\n",
              "      <td>/m/0bt9lr</td>\n",
              "      <td>1</td>\n",
              "      <td>0.056</td>\n",
              "      <td>0.787</td>\n",
              "      <td>0.143</td>\n",
              "      <td>0.852</td>\n",
              "    </tr>\n",
              "    <tr>\n",
              "      <th>1</th>\n",
              "      <td>13dcbd74e1ec918f</td>\n",
              "      <td>human</td>\n",
              "      <td>/m/01g317</td>\n",
              "      <td>1</td>\n",
              "      <td>0.526</td>\n",
              "      <td>0.944</td>\n",
              "      <td>0.311</td>\n",
              "      <td>0.814</td>\n",
              "    </tr>\n",
              "    <tr>\n",
              "      <th>2</th>\n",
              "      <td>6eb9c5dc512de3da</td>\n",
              "      <td>human</td>\n",
              "      <td>/m/0bt9lr</td>\n",
              "      <td>1</td>\n",
              "      <td>0.033</td>\n",
              "      <td>0.549</td>\n",
              "      <td>0.651</td>\n",
              "      <td>0.989</td>\n",
              "    </tr>\n",
              "    <tr>\n",
              "      <th>3</th>\n",
              "      <td>01aa3b95245433a7</td>\n",
              "      <td>human</td>\n",
              "      <td>/m/0199g</td>\n",
              "      <td>1</td>\n",
              "      <td>0.263</td>\n",
              "      <td>0.723</td>\n",
              "      <td>0.418</td>\n",
              "      <td>0.909</td>\n",
              "    </tr>\n",
              "    <tr>\n",
              "      <th>4</th>\n",
              "      <td>0b0ceef90723b6d0</td>\n",
              "      <td>human</td>\n",
              "      <td>/m/0bt9lr</td>\n",
              "      <td>1</td>\n",
              "      <td>0.059</td>\n",
              "      <td>0.703</td>\n",
              "      <td>0.028</td>\n",
              "      <td>0.901</td>\n",
              "    </tr>\n",
              "    <tr>\n",
              "      <th>5</th>\n",
              "      <td>542ea5dac44000d5</td>\n",
              "      <td>human</td>\n",
              "      <td>/m/0k4j</td>\n",
              "      <td>1</td>\n",
              "      <td>0.790</td>\n",
              "      <td>0.978</td>\n",
              "      <td>0.565</td>\n",
              "      <td>0.746</td>\n",
              "    </tr>\n",
              "    <tr>\n",
              "      <th>6</th>\n",
              "      <td>0cdd494e0e445dc9</td>\n",
              "      <td>human</td>\n",
              "      <td>/m/0k4j</td>\n",
              "      <td>1</td>\n",
              "      <td>0.725</td>\n",
              "      <td>0.862</td>\n",
              "      <td>0.578</td>\n",
              "      <td>0.797</td>\n",
              "    </tr>\n",
              "    <tr>\n",
              "      <th>7</th>\n",
              "      <td>2da7dd75e1ae9764</td>\n",
              "      <td>human</td>\n",
              "      <td>/m/01g317</td>\n",
              "      <td>1</td>\n",
              "      <td>0.850</td>\n",
              "      <td>0.928</td>\n",
              "      <td>0.266</td>\n",
              "      <td>0.733</td>\n",
              "    </tr>\n",
              "    <tr>\n",
              "      <th>8</th>\n",
              "      <td>68f54408292e4740</td>\n",
              "      <td>human</td>\n",
              "      <td>/m/01g317</td>\n",
              "      <td>1</td>\n",
              "      <td>0.402</td>\n",
              "      <td>0.550</td>\n",
              "      <td>0.061</td>\n",
              "      <td>0.685</td>\n",
              "    </tr>\n",
              "    <tr>\n",
              "      <th>9</th>\n",
              "      <td>eca0f3d9eab44621</td>\n",
              "      <td>human</td>\n",
              "      <td>/m/0k4j</td>\n",
              "      <td>1</td>\n",
              "      <td>0.000</td>\n",
              "      <td>0.258</td>\n",
              "      <td>0.492</td>\n",
              "      <td>0.826</td>\n",
              "    </tr>\n",
              "  </tbody>\n",
              "</table>\n",
              "</div>"
            ],
            "text/plain": [
              "            ImageID Source  LabelName  Confidence   XMin   XMax   YMin   YMax\n",
              "0  400bc9e0aed700ec  human  /m/0bt9lr           1  0.056  0.787  0.143  0.852\n",
              "1  13dcbd74e1ec918f  human  /m/01g317           1  0.526  0.944  0.311  0.814\n",
              "2  6eb9c5dc512de3da  human  /m/0bt9lr           1  0.033  0.549  0.651  0.989\n",
              "3  01aa3b95245433a7  human   /m/0199g           1  0.263  0.723  0.418  0.909\n",
              "4  0b0ceef90723b6d0  human  /m/0bt9lr           1  0.059  0.703  0.028  0.901\n",
              "5  542ea5dac44000d5  human    /m/0k4j           1  0.790  0.978  0.565  0.746\n",
              "6  0cdd494e0e445dc9  human    /m/0k4j           1  0.725  0.862  0.578  0.797\n",
              "7  2da7dd75e1ae9764  human  /m/01g317           1  0.850  0.928  0.266  0.733\n",
              "8  68f54408292e4740  human  /m/01g317           1  0.402  0.550  0.061  0.685\n",
              "9  eca0f3d9eab44621  human    /m/0k4j           1  0.000  0.258  0.492  0.826"
            ]
          },
          "metadata": {
            "tags": []
          },
          "execution_count": 28
        }
      ]
    },
    {
      "metadata": {
        "id": "9N9SEEV7D4Ng",
        "colab_type": "text"
      },
      "cell_type": "markdown",
      "source": [
        "The classes are now roughly balanced."
      ]
    },
    {
      "metadata": {
        "id": "hacCW0-yv_sd",
        "colab_type": "code",
        "colab": {}
      },
      "cell_type": "code",
      "source": [
        "ids_to_download = training_df[\"ImageID\"].unique().tolist()"
      ],
      "execution_count": 0,
      "outputs": []
    },
    {
      "metadata": {
        "id": "c6eBK95MwzCa",
        "colab_type": "code",
        "outputId": "cbf5a051-ad9a-4ce4-b0e0-55aa05915be5",
        "colab": {
          "base_uri": "https://localhost:8080/",
          "height": 34
        }
      },
      "cell_type": "code",
      "source": [
        "len(ids_to_download)"
      ],
      "execution_count": 0,
      "outputs": [
        {
          "output_type": "execute_result",
          "data": {
            "text/plain": [
              "21976"
            ]
          },
          "metadata": {
            "tags": []
          },
          "execution_count": 30
        }
      ]
    },
    {
      "metadata": {
        "id": "V5he8up7w2gx",
        "colab_type": "code",
        "colab": {}
      },
      "cell_type": "code",
      "source": [
        "images_df = pd.read_csv('data/images/train/images.csv')"
      ],
      "execution_count": 0,
      "outputs": []
    },
    {
      "metadata": {
        "id": "-tICZh-oxx7u",
        "colab_type": "code",
        "outputId": "d0751d6a-5acd-4a4c-94c9-aa0d65b2c12a",
        "colab": {
          "base_uri": "https://localhost:8080/",
          "height": 377
        }
      },
      "cell_type": "code",
      "source": [
        "images_df.head()"
      ],
      "execution_count": 0,
      "outputs": [
        {
          "output_type": "execute_result",
          "data": {
            "text/html": [
              "<div>\n",
              "<style scoped>\n",
              "    .dataframe tbody tr th:only-of-type {\n",
              "        vertical-align: middle;\n",
              "    }\n",
              "\n",
              "    .dataframe tbody tr th {\n",
              "        vertical-align: top;\n",
              "    }\n",
              "\n",
              "    .dataframe thead th {\n",
              "        text-align: right;\n",
              "    }\n",
              "</style>\n",
              "<table border=\"1\" class=\"dataframe\">\n",
              "  <thead>\n",
              "    <tr style=\"text-align: right;\">\n",
              "      <th></th>\n",
              "      <th>ImageID</th>\n",
              "      <th>Subset</th>\n",
              "      <th>OriginalURL</th>\n",
              "      <th>OriginalLandingURL</th>\n",
              "      <th>License</th>\n",
              "      <th>AuthorProfileURL</th>\n",
              "      <th>Author</th>\n",
              "      <th>Title</th>\n",
              "      <th>OriginalSize</th>\n",
              "      <th>OriginalMD5</th>\n",
              "      <th>Thumbnail300KURL</th>\n",
              "    </tr>\n",
              "  </thead>\n",
              "  <tbody>\n",
              "    <tr>\n",
              "      <th>0</th>\n",
              "      <td>000002b66c9c498e</td>\n",
              "      <td>train</td>\n",
              "      <td>https://c7.staticflickr.com/6/5499/10245691204...</td>\n",
              "      <td>https://www.flickr.com/photos/43584526@N06/102...</td>\n",
              "      <td>https://creativecommons.org/licenses/by/2.0/</td>\n",
              "      <td>https://www.flickr.com/people/43584526@N06/</td>\n",
              "      <td>Mae Catherine Melchor</td>\n",
              "      <td>#latepost #lategram #anniversary #celebration ...</td>\n",
              "      <td>141489</td>\n",
              "      <td>XKWUMkcNib71Ge6Yq1/0/g==</td>\n",
              "      <td>https://c7.staticflickr.com/6/5499/10245691204...</td>\n",
              "    </tr>\n",
              "    <tr>\n",
              "      <th>1</th>\n",
              "      <td>000002b97e5471a0</td>\n",
              "      <td>train</td>\n",
              "      <td>https://farm1.staticflickr.com/5615/1533586145...</td>\n",
              "      <td>https://www.flickr.com/photos/juggernautco/153...</td>\n",
              "      <td>https://creativecommons.org/licenses/by/2.0/</td>\n",
              "      <td>https://www.flickr.com/people/juggernautco/</td>\n",
              "      <td>Daniel X. O&amp;#x27;Neil</td>\n",
              "      <td>Downtown Detroit</td>\n",
              "      <td>7054258</td>\n",
              "      <td>CyvuYIfw90WAr8y0a1PaOw==</td>\n",
              "      <td>https://c5.staticflickr.com/6/5615/15335861457...</td>\n",
              "    </tr>\n",
              "    <tr>\n",
              "      <th>2</th>\n",
              "      <td>000002c707c9895e</td>\n",
              "      <td>train</td>\n",
              "      <td>https://c7.staticflickr.com/8/7590/17048042861...</td>\n",
              "      <td>https://www.flickr.com/photos/eltb/17048042861</td>\n",
              "      <td>https://creativecommons.org/licenses/by/2.0/</td>\n",
              "      <td>https://www.flickr.com/people/eltb/</td>\n",
              "      <td>Enrique López-Tamayo Biosca</td>\n",
              "      <td>Capilla de la Parroquia Señor de la Misericord...</td>\n",
              "      <td>812483</td>\n",
              "      <td>cFlLPftwE0e7PznqGLwxKA==</td>\n",
              "      <td>https://c6.staticflickr.com/8/7590/17048042861...</td>\n",
              "    </tr>\n",
              "    <tr>\n",
              "      <th>3</th>\n",
              "      <td>0000048549557964</td>\n",
              "      <td>train</td>\n",
              "      <td>https://farm5.staticflickr.com/5582/1823300949...</td>\n",
              "      <td>https://www.flickr.com/photos/45909111@N00/182...</td>\n",
              "      <td>https://creativecommons.org/licenses/by/2.0/</td>\n",
              "      <td>https://www.flickr.com/people/45909111@N00/</td>\n",
              "      <td>Gwydion M. Williams</td>\n",
              "      <td>2015_06_100015</td>\n",
              "      <td>1282717</td>\n",
              "      <td>bIoO16vdUB8MpG+Wbe1bxw==</td>\n",
              "      <td>https://c8.staticflickr.com/6/5582/18233009494...</td>\n",
              "    </tr>\n",
              "    <tr>\n",
              "      <th>4</th>\n",
              "      <td>000004f4400f6ec5</td>\n",
              "      <td>train</td>\n",
              "      <td>https://farm6.staticflickr.com/4126/5145819744...</td>\n",
              "      <td>https://www.flickr.com/photos/jorge-11/5145819744</td>\n",
              "      <td>https://creativecommons.org/licenses/by/2.0/</td>\n",
              "      <td>https://www.flickr.com/people/jorge-11/</td>\n",
              "      <td>George M. Groutas</td>\n",
              "      <td>My nameday</td>\n",
              "      <td>3129329</td>\n",
              "      <td>nauUgLObUcXqCUxuVabxbw==</td>\n",
              "      <td>https://c5.staticflickr.com/5/4126/5145819744_...</td>\n",
              "    </tr>\n",
              "  </tbody>\n",
              "</table>\n",
              "</div>"
            ],
            "text/plain": [
              "            ImageID Subset                                        OriginalURL  \\\n",
              "0  000002b66c9c498e  train  https://c7.staticflickr.com/6/5499/10245691204...   \n",
              "1  000002b97e5471a0  train  https://farm1.staticflickr.com/5615/1533586145...   \n",
              "2  000002c707c9895e  train  https://c7.staticflickr.com/8/7590/17048042861...   \n",
              "3  0000048549557964  train  https://farm5.staticflickr.com/5582/1823300949...   \n",
              "4  000004f4400f6ec5  train  https://farm6.staticflickr.com/4126/5145819744...   \n",
              "\n",
              "                                  OriginalLandingURL  \\\n",
              "0  https://www.flickr.com/photos/43584526@N06/102...   \n",
              "1  https://www.flickr.com/photos/juggernautco/153...   \n",
              "2     https://www.flickr.com/photos/eltb/17048042861   \n",
              "3  https://www.flickr.com/photos/45909111@N00/182...   \n",
              "4  https://www.flickr.com/photos/jorge-11/5145819744   \n",
              "\n",
              "                                        License  \\\n",
              "0  https://creativecommons.org/licenses/by/2.0/   \n",
              "1  https://creativecommons.org/licenses/by/2.0/   \n",
              "2  https://creativecommons.org/licenses/by/2.0/   \n",
              "3  https://creativecommons.org/licenses/by/2.0/   \n",
              "4  https://creativecommons.org/licenses/by/2.0/   \n",
              "\n",
              "                              AuthorProfileURL                       Author  \\\n",
              "0  https://www.flickr.com/people/43584526@N06/        Mae Catherine Melchor   \n",
              "1  https://www.flickr.com/people/juggernautco/        Daniel X. O&#x27;Neil   \n",
              "2          https://www.flickr.com/people/eltb/  Enrique López-Tamayo Biosca   \n",
              "3  https://www.flickr.com/people/45909111@N00/          Gwydion M. Williams   \n",
              "4      https://www.flickr.com/people/jorge-11/            George M. Groutas   \n",
              "\n",
              "                                               Title  OriginalSize  \\\n",
              "0  #latepost #lategram #anniversary #celebration ...        141489   \n",
              "1                                   Downtown Detroit       7054258   \n",
              "2  Capilla de la Parroquia Señor de la Misericord...        812483   \n",
              "3                                     2015_06_100015       1282717   \n",
              "4                                         My nameday       3129329   \n",
              "\n",
              "                OriginalMD5                                   Thumbnail300KURL  \n",
              "0  XKWUMkcNib71Ge6Yq1/0/g==  https://c7.staticflickr.com/6/5499/10245691204...  \n",
              "1  CyvuYIfw90WAr8y0a1PaOw==  https://c5.staticflickr.com/6/5615/15335861457...  \n",
              "2  cFlLPftwE0e7PznqGLwxKA==  https://c6.staticflickr.com/8/7590/17048042861...  \n",
              "3  bIoO16vdUB8MpG+Wbe1bxw==  https://c8.staticflickr.com/6/5582/18233009494...  \n",
              "4  nauUgLObUcXqCUxuVabxbw==  https://c5.staticflickr.com/5/4126/5145819744_...  "
            ]
          },
          "metadata": {
            "tags": []
          },
          "execution_count": 32
        }
      ]
    },
    {
      "metadata": {
        "id": "BbOK36b5yvX1",
        "colab_type": "code",
        "outputId": "d377dc1b-3f0c-4755-b504-74ba3d6c63ad",
        "colab": {
          "base_uri": "https://localhost:8080/",
          "height": 295
        }
      },
      "cell_type": "code",
      "source": [
        "images_df.describe()"
      ],
      "execution_count": 0,
      "outputs": [
        {
          "output_type": "execute_result",
          "data": {
            "text/html": [
              "<div>\n",
              "<style scoped>\n",
              "    .dataframe tbody tr th:only-of-type {\n",
              "        vertical-align: middle;\n",
              "    }\n",
              "\n",
              "    .dataframe tbody tr th {\n",
              "        vertical-align: top;\n",
              "    }\n",
              "\n",
              "    .dataframe thead th {\n",
              "        text-align: right;\n",
              "    }\n",
              "</style>\n",
              "<table border=\"1\" class=\"dataframe\">\n",
              "  <thead>\n",
              "    <tr style=\"text-align: right;\">\n",
              "      <th></th>\n",
              "      <th>OriginalSize</th>\n",
              "    </tr>\n",
              "  </thead>\n",
              "  <tbody>\n",
              "    <tr>\n",
              "      <th>count</th>\n",
              "      <td>9.011219e+06</td>\n",
              "    </tr>\n",
              "    <tr>\n",
              "      <th>mean</th>\n",
              "      <td>2.234398e+06</td>\n",
              "    </tr>\n",
              "    <tr>\n",
              "      <th>std</th>\n",
              "      <td>2.573106e+06</td>\n",
              "    </tr>\n",
              "    <tr>\n",
              "      <th>min</th>\n",
              "      <td>5.980000e+02</td>\n",
              "    </tr>\n",
              "    <tr>\n",
              "      <th>25%</th>\n",
              "      <td>3.436080e+05</td>\n",
              "    </tr>\n",
              "    <tr>\n",
              "      <th>50%</th>\n",
              "      <td>1.303893e+06</td>\n",
              "    </tr>\n",
              "    <tr>\n",
              "      <th>75%</th>\n",
              "      <td>3.201603e+06</td>\n",
              "    </tr>\n",
              "    <tr>\n",
              "      <th>max</th>\n",
              "      <td>1.572773e+07</td>\n",
              "    </tr>\n",
              "  </tbody>\n",
              "</table>\n",
              "</div>"
            ],
            "text/plain": [
              "       OriginalSize\n",
              "count  9.011219e+06\n",
              "mean   2.234398e+06\n",
              "std    2.573106e+06\n",
              "min    5.980000e+02\n",
              "25%    3.436080e+05\n",
              "50%    1.303893e+06\n",
              "75%    3.201603e+06\n",
              "max    1.572773e+07"
            ]
          },
          "metadata": {
            "tags": []
          },
          "execution_count": 33
        }
      ]
    },
    {
      "metadata": {
        "id": "6gk81ABLzyAX",
        "colab_type": "code",
        "colab": {}
      },
      "cell_type": "code",
      "source": [
        "images_df_pruned = images_df.loc[images_df[\"ImageID\"].isin(ids_to_download)]"
      ],
      "execution_count": 0,
      "outputs": []
    },
    {
      "metadata": {
        "id": "iduACMHJz_X6",
        "colab_type": "code",
        "outputId": "6668e614-f250-4d89-f4a0-b798b55d93ad",
        "colab": {
          "base_uri": "https://localhost:8080/",
          "height": 308
        }
      },
      "cell_type": "code",
      "source": [
        "images_df_pruned.head()"
      ],
      "execution_count": 0,
      "outputs": [
        {
          "output_type": "execute_result",
          "data": {
            "text/html": [
              "<div>\n",
              "<style scoped>\n",
              "    .dataframe tbody tr th:only-of-type {\n",
              "        vertical-align: middle;\n",
              "    }\n",
              "\n",
              "    .dataframe tbody tr th {\n",
              "        vertical-align: top;\n",
              "    }\n",
              "\n",
              "    .dataframe thead th {\n",
              "        text-align: right;\n",
              "    }\n",
              "</style>\n",
              "<table border=\"1\" class=\"dataframe\">\n",
              "  <thead>\n",
              "    <tr style=\"text-align: right;\">\n",
              "      <th></th>\n",
              "      <th>ImageID</th>\n",
              "      <th>Subset</th>\n",
              "      <th>OriginalURL</th>\n",
              "      <th>OriginalLandingURL</th>\n",
              "      <th>License</th>\n",
              "      <th>AuthorProfileURL</th>\n",
              "      <th>Author</th>\n",
              "      <th>Title</th>\n",
              "      <th>OriginalSize</th>\n",
              "      <th>OriginalMD5</th>\n",
              "      <th>Thumbnail300KURL</th>\n",
              "    </tr>\n",
              "  </thead>\n",
              "  <tbody>\n",
              "    <tr>\n",
              "      <th>19</th>\n",
              "      <td>00002f4ff380c64c</td>\n",
              "      <td>train</td>\n",
              "      <td>https://c5.staticflickr.com/1/6/9857059_f2cf39...</td>\n",
              "      <td>https://www.flickr.com/photos/omaromar/9857059</td>\n",
              "      <td>https://creativecommons.org/licenses/by/2.0/</td>\n",
              "      <td>https://www.flickr.com/people/omaromar/</td>\n",
              "      <td>Omar Bárcena</td>\n",
              "      <td>holland-amsterdam6</td>\n",
              "      <td>377935</td>\n",
              "      <td>C+CR4YIizIublXRVr0tlvg==</td>\n",
              "      <td>https://c8.staticflickr.com/1/6/9857059_f2cf39...</td>\n",
              "    </tr>\n",
              "    <tr>\n",
              "      <th>107</th>\n",
              "      <td>0000b9fcba019d36</td>\n",
              "      <td>train</td>\n",
              "      <td>https://farm7.staticflickr.com/29/50621395_874...</td>\n",
              "      <td>https://www.flickr.com/photos/ezlens/50621395</td>\n",
              "      <td>https://creativecommons.org/licenses/by/2.0/</td>\n",
              "      <td>https://www.flickr.com/people/ezlens/</td>\n",
              "      <td>O. G.</td>\n",
              "      <td>DSCN8023</td>\n",
              "      <td>73392</td>\n",
              "      <td>3d9qBaSrX7fN2mag/qpk5w==</td>\n",
              "      <td>https://c7.staticflickr.com/1/29/50621395_2c80...</td>\n",
              "    </tr>\n",
              "    <tr>\n",
              "      <th>112</th>\n",
              "      <td>0000bee39176697a</td>\n",
              "      <td>train</td>\n",
              "      <td>https://c3.staticflickr.com/6/5322/9334511583_...</td>\n",
              "      <td>https://www.flickr.com/photos/joanjr/9334511583</td>\n",
              "      <td>https://creativecommons.org/licenses/by/2.0/</td>\n",
              "      <td>https://www.flickr.com/people/joanjr/</td>\n",
              "      <td>Hell in a Handbag Productions</td>\n",
              "      <td>Waiting</td>\n",
              "      <td>1177456</td>\n",
              "      <td>qlO031FsetmFfZZtVXxvUg==</td>\n",
              "      <td>https://c1.staticflickr.com/6/5322/9334511583_...</td>\n",
              "    </tr>\n",
              "    <tr>\n",
              "      <th>170</th>\n",
              "      <td>0001143bfa4f6ae7</td>\n",
              "      <td>train</td>\n",
              "      <td>https://farm8.staticflickr.com/4003/4647686220...</td>\n",
              "      <td>https://www.flickr.com/photos/codepo8/4647686220</td>\n",
              "      <td>https://creativecommons.org/licenses/by/2.0/</td>\n",
              "      <td>https://www.flickr.com/people/codepo8/</td>\n",
              "      <td>Christian Heilmann</td>\n",
              "      <td>Philip Tellis on performance</td>\n",
              "      <td>1940661</td>\n",
              "      <td>5uUr5M0ZkFXPo0wSGufJ8Q==</td>\n",
              "      <td>https://c3.staticflickr.com/5/4003/4647686220_...</td>\n",
              "    </tr>\n",
              "    <tr>\n",
              "      <th>218</th>\n",
              "      <td>00017b732ad103f5</td>\n",
              "      <td>train</td>\n",
              "      <td>https://farm6.staticflickr.com/4136/4758194319...</td>\n",
              "      <td>https://www.flickr.com/photos/-jocelyn-/475819...</td>\n",
              "      <td>https://creativecommons.org/licenses/by/2.0/</td>\n",
              "      <td>https://www.flickr.com/people/-jocelyn-/</td>\n",
              "      <td>.jocelyn.</td>\n",
              "      <td>Colin</td>\n",
              "      <td>4196559</td>\n",
              "      <td>Hc2LSbpwa7GOisMUV5iY+Q==</td>\n",
              "      <td>https://c3.staticflickr.com/5/4136/4758194319_...</td>\n",
              "    </tr>\n",
              "  </tbody>\n",
              "</table>\n",
              "</div>"
            ],
            "text/plain": [
              "              ImageID Subset  \\\n",
              "19   00002f4ff380c64c  train   \n",
              "107  0000b9fcba019d36  train   \n",
              "112  0000bee39176697a  train   \n",
              "170  0001143bfa4f6ae7  train   \n",
              "218  00017b732ad103f5  train   \n",
              "\n",
              "                                           OriginalURL  \\\n",
              "19   https://c5.staticflickr.com/1/6/9857059_f2cf39...   \n",
              "107  https://farm7.staticflickr.com/29/50621395_874...   \n",
              "112  https://c3.staticflickr.com/6/5322/9334511583_...   \n",
              "170  https://farm8.staticflickr.com/4003/4647686220...   \n",
              "218  https://farm6.staticflickr.com/4136/4758194319...   \n",
              "\n",
              "                                    OriginalLandingURL  \\\n",
              "19      https://www.flickr.com/photos/omaromar/9857059   \n",
              "107      https://www.flickr.com/photos/ezlens/50621395   \n",
              "112    https://www.flickr.com/photos/joanjr/9334511583   \n",
              "170   https://www.flickr.com/photos/codepo8/4647686220   \n",
              "218  https://www.flickr.com/photos/-jocelyn-/475819...   \n",
              "\n",
              "                                          License  \\\n",
              "19   https://creativecommons.org/licenses/by/2.0/   \n",
              "107  https://creativecommons.org/licenses/by/2.0/   \n",
              "112  https://creativecommons.org/licenses/by/2.0/   \n",
              "170  https://creativecommons.org/licenses/by/2.0/   \n",
              "218  https://creativecommons.org/licenses/by/2.0/   \n",
              "\n",
              "                             AuthorProfileURL                         Author  \\\n",
              "19    https://www.flickr.com/people/omaromar/                   Omar Bárcena   \n",
              "107     https://www.flickr.com/people/ezlens/                          O. G.   \n",
              "112     https://www.flickr.com/people/joanjr/  Hell in a Handbag Productions   \n",
              "170    https://www.flickr.com/people/codepo8/             Christian Heilmann   \n",
              "218  https://www.flickr.com/people/-jocelyn-/                      .jocelyn.   \n",
              "\n",
              "                            Title  OriginalSize               OriginalMD5  \\\n",
              "19             holland-amsterdam6        377935  C+CR4YIizIublXRVr0tlvg==   \n",
              "107                      DSCN8023         73392  3d9qBaSrX7fN2mag/qpk5w==   \n",
              "112                       Waiting       1177456  qlO031FsetmFfZZtVXxvUg==   \n",
              "170  Philip Tellis on performance       1940661  5uUr5M0ZkFXPo0wSGufJ8Q==   \n",
              "218                         Colin       4196559  Hc2LSbpwa7GOisMUV5iY+Q==   \n",
              "\n",
              "                                      Thumbnail300KURL  \n",
              "19   https://c8.staticflickr.com/1/6/9857059_f2cf39...  \n",
              "107  https://c7.staticflickr.com/1/29/50621395_2c80...  \n",
              "112  https://c1.staticflickr.com/6/5322/9334511583_...  \n",
              "170  https://c3.staticflickr.com/5/4003/4647686220_...  \n",
              "218  https://c3.staticflickr.com/5/4136/4758194319_...  "
            ]
          },
          "metadata": {
            "tags": []
          },
          "execution_count": 35
        }
      ]
    },
    {
      "metadata": {
        "id": "ogVGlF-X49f3",
        "colab_type": "text"
      },
      "cell_type": "markdown",
      "source": [
        "We look at images without a URL:"
      ]
    },
    {
      "metadata": {
        "id": "-DmIaiW_5Cd3",
        "colab_type": "code",
        "outputId": "a5d1becc-615f-45a9-e84c-ef0a08c70037",
        "colab": {
          "base_uri": "https://localhost:8080/",
          "height": 308
        }
      },
      "cell_type": "code",
      "source": [
        "images_df_pruned.sort_values(\"Thumbnail300KURL\",na_position=\"first\").head()"
      ],
      "execution_count": 0,
      "outputs": [
        {
          "output_type": "execute_result",
          "data": {
            "text/html": [
              "<div>\n",
              "<style scoped>\n",
              "    .dataframe tbody tr th:only-of-type {\n",
              "        vertical-align: middle;\n",
              "    }\n",
              "\n",
              "    .dataframe tbody tr th {\n",
              "        vertical-align: top;\n",
              "    }\n",
              "\n",
              "    .dataframe thead th {\n",
              "        text-align: right;\n",
              "    }\n",
              "</style>\n",
              "<table border=\"1\" class=\"dataframe\">\n",
              "  <thead>\n",
              "    <tr style=\"text-align: right;\">\n",
              "      <th></th>\n",
              "      <th>ImageID</th>\n",
              "      <th>Subset</th>\n",
              "      <th>OriginalURL</th>\n",
              "      <th>OriginalLandingURL</th>\n",
              "      <th>License</th>\n",
              "      <th>AuthorProfileURL</th>\n",
              "      <th>Author</th>\n",
              "      <th>Title</th>\n",
              "      <th>OriginalSize</th>\n",
              "      <th>OriginalMD5</th>\n",
              "      <th>Thumbnail300KURL</th>\n",
              "    </tr>\n",
              "  </thead>\n",
              "  <tbody>\n",
              "    <tr>\n",
              "      <th>6340</th>\n",
              "      <td>002e48331764d741</td>\n",
              "      <td>train</td>\n",
              "      <td>https://farm2.staticflickr.com/65/167300596_9a...</td>\n",
              "      <td>https://www.flickr.com/photos/bluetigger/16730...</td>\n",
              "      <td>https://creativecommons.org/licenses/by/2.0/</td>\n",
              "      <td>https://www.flickr.com/people/bluetigger/</td>\n",
              "      <td>olaszmelo</td>\n",
              "      <td>Trixie sweet dreams</td>\n",
              "      <td>105931</td>\n",
              "      <td>IY0O5v+Iu9Mj+3uiL5sASg==</td>\n",
              "      <td>NaN</td>\n",
              "    </tr>\n",
              "    <tr>\n",
              "      <th>18022</th>\n",
              "      <td>008310531bf3756f</td>\n",
              "      <td>train</td>\n",
              "      <td>https://c8.staticflickr.com/4/3217/5859970000_...</td>\n",
              "      <td>https://www.flickr.com/photos/summonedbyfells/...</td>\n",
              "      <td>https://creativecommons.org/licenses/by/2.0/</td>\n",
              "      <td>https://www.flickr.com/people/summonedbyfells/</td>\n",
              "      <td>summonedbyfells</td>\n",
              "      <td>LARKIN'S WHEELS</td>\n",
              "      <td>24216</td>\n",
              "      <td>mgdKwMca0UnHMkEn01LmIw==</td>\n",
              "      <td>NaN</td>\n",
              "    </tr>\n",
              "    <tr>\n",
              "      <th>36922</th>\n",
              "      <td>010b85abc9dfa772</td>\n",
              "      <td>train</td>\n",
              "      <td>https://farm3.staticflickr.com/3367/3492573859...</td>\n",
              "      <td>https://www.flickr.com/photos/solrobayo/349257...</td>\n",
              "      <td>https://creativecommons.org/licenses/by/2.0/</td>\n",
              "      <td>https://www.flickr.com/people/solrobayo/</td>\n",
              "      <td>Sol Robayo</td>\n",
              "      <td>Jugando con PhotoScape... foto dummies</td>\n",
              "      <td>120745</td>\n",
              "      <td>+qSL3iboVRf/3S5fWTumQw==</td>\n",
              "      <td>NaN</td>\n",
              "    </tr>\n",
              "    <tr>\n",
              "      <th>40115</th>\n",
              "      <td>0122c779121de8a2</td>\n",
              "      <td>train</td>\n",
              "      <td>https://farm3.staticflickr.com/5228/5677142589...</td>\n",
              "      <td>https://www.flickr.com/photos/chaimai/5677142589/</td>\n",
              "      <td>https://creativecommons.org/licenses/by/2.0/</td>\n",
              "      <td>https://www.flickr.com/people/chaimai/</td>\n",
              "      <td>JoAnne Sparks</td>\n",
              "      <td>15_3_11_buddha</td>\n",
              "      <td>50701</td>\n",
              "      <td>4T3CHxeHAJ8VClM6/FewXQ==</td>\n",
              "      <td>NaN</td>\n",
              "    </tr>\n",
              "    <tr>\n",
              "      <th>42474</th>\n",
              "      <td>013380cd70e78c69</td>\n",
              "      <td>train</td>\n",
              "      <td>https://c2.staticflickr.com/1/118/288508162_17...</td>\n",
              "      <td>https://www.flickr.com/photos/trespassers/2885...</td>\n",
              "      <td>https://creativecommons.org/licenses/by/2.0/</td>\n",
              "      <td>https://www.flickr.com/people/trespassers/</td>\n",
              "      <td>trespassers william</td>\n",
              "      <td>דובי</td>\n",
              "      <td>231163</td>\n",
              "      <td>MhRwhwtsaqwoXxZp3UElCQ==</td>\n",
              "      <td>NaN</td>\n",
              "    </tr>\n",
              "  </tbody>\n",
              "</table>\n",
              "</div>"
            ],
            "text/plain": [
              "                ImageID Subset  \\\n",
              "6340   002e48331764d741  train   \n",
              "18022  008310531bf3756f  train   \n",
              "36922  010b85abc9dfa772  train   \n",
              "40115  0122c779121de8a2  train   \n",
              "42474  013380cd70e78c69  train   \n",
              "\n",
              "                                             OriginalURL  \\\n",
              "6340   https://farm2.staticflickr.com/65/167300596_9a...   \n",
              "18022  https://c8.staticflickr.com/4/3217/5859970000_...   \n",
              "36922  https://farm3.staticflickr.com/3367/3492573859...   \n",
              "40115  https://farm3.staticflickr.com/5228/5677142589...   \n",
              "42474  https://c2.staticflickr.com/1/118/288508162_17...   \n",
              "\n",
              "                                      OriginalLandingURL  \\\n",
              "6340   https://www.flickr.com/photos/bluetigger/16730...   \n",
              "18022  https://www.flickr.com/photos/summonedbyfells/...   \n",
              "36922  https://www.flickr.com/photos/solrobayo/349257...   \n",
              "40115  https://www.flickr.com/photos/chaimai/5677142589/   \n",
              "42474  https://www.flickr.com/photos/trespassers/2885...   \n",
              "\n",
              "                                            License  \\\n",
              "6340   https://creativecommons.org/licenses/by/2.0/   \n",
              "18022  https://creativecommons.org/licenses/by/2.0/   \n",
              "36922  https://creativecommons.org/licenses/by/2.0/   \n",
              "40115  https://creativecommons.org/licenses/by/2.0/   \n",
              "42474  https://creativecommons.org/licenses/by/2.0/   \n",
              "\n",
              "                                     AuthorProfileURL               Author  \\\n",
              "6340        https://www.flickr.com/people/bluetigger/            olaszmelo   \n",
              "18022  https://www.flickr.com/people/summonedbyfells/      summonedbyfells   \n",
              "36922        https://www.flickr.com/people/solrobayo/           Sol Robayo   \n",
              "40115          https://www.flickr.com/people/chaimai/        JoAnne Sparks   \n",
              "42474      https://www.flickr.com/people/trespassers/  trespassers william   \n",
              "\n",
              "                                        Title  OriginalSize  \\\n",
              "6340                      Trixie sweet dreams        105931   \n",
              "18022                         LARKIN'S WHEELS         24216   \n",
              "36922  Jugando con PhotoScape... foto dummies        120745   \n",
              "40115                          15_3_11_buddha         50701   \n",
              "42474                                    דובי        231163   \n",
              "\n",
              "                    OriginalMD5 Thumbnail300KURL  \n",
              "6340   IY0O5v+Iu9Mj+3uiL5sASg==              NaN  \n",
              "18022  mgdKwMca0UnHMkEn01LmIw==              NaN  \n",
              "36922  +qSL3iboVRf/3S5fWTumQw==              NaN  \n",
              "40115  4T3CHxeHAJ8VClM6/FewXQ==              NaN  \n",
              "42474  MhRwhwtsaqwoXxZp3UElCQ==              NaN  "
            ]
          },
          "metadata": {
            "tags": []
          },
          "execution_count": 36
        }
      ]
    },
    {
      "metadata": {
        "id": "EeoqKPDV5fQy",
        "colab_type": "code",
        "outputId": "e84594d0-5e61-47fe-c544-f7c7047b2766",
        "colab": {
          "base_uri": "https://localhost:8080/",
          "height": 34
        }
      },
      "cell_type": "code",
      "source": [
        "images_df_pruned[\"Thumbnail300KURL\"].isna().sum() "
      ],
      "execution_count": 0,
      "outputs": [
        {
          "output_type": "execute_result",
          "data": {
            "text/plain": [
              "464"
            ]
          },
          "metadata": {
            "tags": []
          },
          "execution_count": 37
        }
      ]
    },
    {
      "metadata": {
        "id": "E2MRqNQwObBH",
        "colab_type": "code",
        "outputId": "6720bd23-0076-4029-8f41-1051caa41506",
        "colab": {
          "base_uri": "https://localhost:8080/",
          "height": 34
        }
      },
      "cell_type": "code",
      "source": [
        "images_df_pruned[\"OriginalURL\"].isna().sum() "
      ],
      "execution_count": 0,
      "outputs": [
        {
          "output_type": "execute_result",
          "data": {
            "text/plain": [
              "0"
            ]
          },
          "metadata": {
            "tags": []
          },
          "execution_count": 38
        }
      ]
    },
    {
      "metadata": {
        "id": "0iNWzfkFOdST",
        "colab_type": "text"
      },
      "cell_type": "markdown",
      "source": [
        "We can replace the thumbnail `nan` elements with the equivalent `OriginalURL` elements."
      ]
    },
    {
      "metadata": {
        "id": "IUPtYZlbOvvw",
        "colab_type": "code",
        "outputId": "47da8eb5-a472-446e-fc53-ed0583396715",
        "colab": {
          "base_uri": "https://localhost:8080/",
          "height": 140
        }
      },
      "cell_type": "code",
      "source": [
        "images_df_pruned.loc[images_df_pruned['Thumbnail300KURL'].isna(),'Thumbnail300KURL'] = images_df_pruned['OriginalURL']"
      ],
      "execution_count": 0,
      "outputs": [
        {
          "output_type": "stream",
          "text": [
            "/usr/local/lib/python3.6/dist-packages/pandas/core/indexing.py:537: SettingWithCopyWarning: \n",
            "A value is trying to be set on a copy of a slice from a DataFrame.\n",
            "Try using .loc[row_indexer,col_indexer] = value instead\n",
            "\n",
            "See the caveats in the documentation: http://pandas.pydata.org/pandas-docs/stable/indexing.html#indexing-view-versus-copy\n",
            "  self.obj[item] = s\n"
          ],
          "name": "stderr"
        }
      ]
    },
    {
      "metadata": {
        "id": "MePDhUCTO5r5",
        "colab_type": "code",
        "outputId": "68500195-010a-4118-eeed-b695f094b7c1",
        "colab": {
          "base_uri": "https://localhost:8080/",
          "height": 34
        }
      },
      "cell_type": "code",
      "source": [
        "images_df_pruned[\"Thumbnail300KURL\"].isna().sum() "
      ],
      "execution_count": 0,
      "outputs": [
        {
          "output_type": "execute_result",
          "data": {
            "text/plain": [
              "0"
            ]
          },
          "metadata": {
            "tags": []
          },
          "execution_count": 40
        }
      ]
    },
    {
      "metadata": {
        "id": "-4hu615n0LQh",
        "colab_type": "code",
        "outputId": "719f37c2-9b02-4e16-fda7-12dcdf505da9",
        "colab": {
          "base_uri": "https://localhost:8080/",
          "height": 34
        }
      },
      "cell_type": "code",
      "source": [
        "images_df_pruned.shape"
      ],
      "execution_count": 0,
      "outputs": [
        {
          "output_type": "execute_result",
          "data": {
            "text/plain": [
              "(21976, 11)"
            ]
          },
          "metadata": {
            "tags": []
          },
          "execution_count": 41
        }
      ]
    },
    {
      "metadata": {
        "id": "LUA3nOUE0UPK",
        "colab_type": "code",
        "outputId": "fe30734e-4cd7-4276-de3a-eaf381cd193f",
        "colab": {
          "base_uri": "https://localhost:8080/",
          "height": 34
        }
      },
      "cell_type": "code",
      "source": [
        "21976 * 0.3"
      ],
      "execution_count": 0,
      "outputs": [
        {
          "output_type": "execute_result",
          "data": {
            "text/plain": [
              "6592.8"
            ]
          },
          "metadata": {
            "tags": []
          },
          "execution_count": 42
        }
      ]
    },
    {
      "metadata": {
        "id": "ALJCeCy40iXF",
        "colab_type": "text"
      },
      "cell_type": "markdown",
      "source": [
        "Around 39.3 GB of images will need to be downloaded (using the thumbnails)."
      ]
    },
    {
      "metadata": {
        "id": "ANWVJGNC4Dv1",
        "colab_type": "code",
        "colab": {}
      },
      "cell_type": "code",
      "source": [
        "imagesdict = {}\n",
        "for index, row in images_df_pruned.iterrows():\n",
        "  imagesdict[row[\"ImageID\"]]=row[\"Thumbnail300KURL\"]"
      ],
      "execution_count": 0,
      "outputs": []
    },
    {
      "metadata": {
        "colab_type": "code",
        "id": "NGn3aZedPbXt",
        "colab": {}
      },
      "cell_type": "code",
      "source": [
        "from collections import Counter\n",
        "d = imagesdict.values()\n",
        "itemsdup = {k for (k,v) in Counter(d).items() if v > 1}"
      ],
      "execution_count": 0,
      "outputs": []
    },
    {
      "metadata": {
        "colab_type": "code",
        "outputId": "853f627c-5e4b-4ec6-93dd-b7b154bcf3e2",
        "id": "cXOlCWupPZsp",
        "colab": {
          "base_uri": "https://localhost:8080/",
          "height": 34
        }
      },
      "cell_type": "code",
      "source": [
        "itemsdup"
      ],
      "execution_count": 0,
      "outputs": [
        {
          "output_type": "execute_result",
          "data": {
            "text/plain": [
              "set()"
            ]
          },
          "metadata": {
            "tags": []
          },
          "execution_count": 45
        }
      ]
    },
    {
      "metadata": {
        "id": "68CQm5zO0q2E",
        "colab_type": "text"
      },
      "cell_type": "markdown",
      "source": [
        "## Downloading Images"
      ]
    },
    {
      "metadata": {
        "id": "02JH2Eqp2J8r",
        "colab_type": "text"
      },
      "cell_type": "markdown",
      "source": [
        "Parallel Processing Function from algorithmiaio\n",
        "\n",
        "```\n",
        "\n",
        "def parallel_process(array, function, n_jobs=16, use_kwargs=False, front_num=3):\n",
        "    \"\"\"\n",
        "        A parallel version of the map function with a progress bar.\n",
        "        Args:\n",
        "            array (array-like): An array to iterate over.\n",
        "            function (function): A python function to apply to the elements of array\n",
        "            n_jobs (int, default=16): The number of cores to use\n",
        "            use_kwargs (boolean, default=False): Whether to consider the elements of array as dictionaries of\n",
        "                keyword arguments to function\n",
        "            front_num (int, default=3): The number of iterations to run serially before kicking off the parallel job.\n",
        "                Useful for catching bugs\n",
        "        Returns:\n",
        "            [function(array[0]), function(array[1]), ...]\n",
        "    \"\"\"\n",
        "   ```\n"
      ]
    },
    {
      "metadata": {
        "id": "8_vWzmNv2Zca",
        "colab_type": "text"
      },
      "cell_type": "markdown",
      "source": [
        "### Function"
      ]
    },
    {
      "metadata": {
        "id": "9B9_B8o70hFr",
        "colab_type": "code",
        "colab": {}
      },
      "cell_type": "code",
      "source": [
        "#https://github.com/algorithmiaio/sample-apps/blob/master/deep_dive_demos/open_images_detection/preprocessing/download_images.py\n",
        "\n",
        "# This is a nice parallel processing tool that uses tqdm\n",
        "# to help visualize time-to-completion.\n",
        "\n",
        "from tqdm import tqdm\n",
        "from concurrent.futures import ProcessPoolExecutor, as_completed\n",
        "\n",
        "def parallel_process(array, function, n_jobs=16, use_kwargs=False, front_num=3):\n",
        "    \"\"\"\n",
        "        A parallel version of the map function with a progress bar.\n",
        "        Args:\n",
        "            array (array-like): An array to iterate over.\n",
        "            function (function): A python function to apply to the elements of array\n",
        "            n_jobs (int, default=16): The number of cores to use\n",
        "            use_kwargs (boolean, default=False): Whether to consider the elements of array as dictionaries of\n",
        "                keyword arguments to function\n",
        "            front_num (int, default=3): The number of iterations to run serially before kicking off the parallel job.\n",
        "                Useful for catching bugs\n",
        "        Returns:\n",
        "            [function(array[0]), function(array[1]), ...]\n",
        "    \"\"\"\n",
        "    #We run the first few iterations serially to catch bugs\n",
        "    if front_num > 0:\n",
        "        front = [function(**a) if use_kwargs else function(a) for a in array[:front_num]]\n",
        "    #If we set n_jobs to 1, just run a list comprehension. This is useful for benchmarking and debugging.\n",
        "    if n_jobs==1:\n",
        "        return front + [function(**a) if use_kwargs else function(a) for a in tqdm(array[front_num:])]\n",
        "    #Assemble the workers\n",
        "    with ProcessPoolExecutor(max_workers=n_jobs) as pool:\n",
        "        #Pass the elements of array into function\n",
        "        if use_kwargs:\n",
        "            futures = [pool.submit(function, **a) for a in array[front_num:]]\n",
        "        else:\n",
        "            futures = [pool.submit(function, a) for a in array[front_num:]]\n",
        "        kwargs = {\n",
        "            'total': len(futures),\n",
        "            'unit': 'it',\n",
        "            'unit_scale': True,\n",
        "            'leave': True\n",
        "        }\n",
        "        #Print out the progress as tasks complete\n",
        "        for f in tqdm(as_completed(futures), **kwargs):\n",
        "            pass\n",
        "    out = []\n",
        "    #Get the results from the futures.\n",
        "    for i, future in tqdm(enumerate(futures)):\n",
        "        try:\n",
        "            out.append(future.result())\n",
        "        except Exception as e:\n",
        "            out.append(e)\n",
        "    return front + out"
      ],
      "execution_count": 0,
      "outputs": []
    },
    {
      "metadata": {
        "id": "XpKeyobJ2fff",
        "colab_type": "text"
      },
      "cell_type": "markdown",
      "source": [
        "### URL Downloading"
      ]
    },
    {
      "metadata": {
        "colab_type": "code",
        "id": "kgbUmbJq3vZa",
        "colab": {}
      },
      "cell_type": "code",
      "source": [
        "!mkdir images"
      ],
      "execution_count": 0,
      "outputs": []
    },
    {
      "metadata": {
        "colab_type": "code",
        "id": "nD8_fK0_3vZb",
        "colab": {}
      },
      "cell_type": "code",
      "source": [
        "!mkdir images/train\n",
        "!mkdir images/test\n",
        "!mkdir images/validation"
      ],
      "execution_count": 0,
      "outputs": []
    },
    {
      "metadata": {
        "id": "pwB71-sTHXNK",
        "colab_type": "code",
        "colab": {}
      },
      "cell_type": "code",
      "source": [
        "blank_ids = []"
      ],
      "execution_count": 0,
      "outputs": []
    },
    {
      "metadata": {
        "id": "M56O0rUg13Yq",
        "colab_type": "code",
        "colab": {}
      },
      "cell_type": "code",
      "source": [
        "import requests\n",
        "import random\n",
        "import os\n",
        "#Again, courtesy of https://github.com/algorithmiaio/sample-apps/blob/master/deep_dive_demos/open_images_detection/preprocessing/download_images.py\n",
        "def download(imid,imdict,dir_path):\n",
        "    global blank_ids\n",
        "    image_content = None\n",
        "    browser_headers = [\n",
        "        {\n",
        "            \"User-Agent\": \"Mozilla/5.0 (Macintosh; Intel Mac OS X 10_11_5) AppleWebKit/537.36 (KHTML, like Gecko) Chrome/51.0.2704 Safari/537.36\"},\n",
        "        {\n",
        "            \"User-Agent\": \"Mozilla/5.0 (Macintosh; Intel Mac OS X 10_11_5) AppleWebKit/537.36 (KHTML, like Gecko) Chrome/52.0.2743 Safari/537.36\"},\n",
        "        {\"User-Agent\": \"Mozilla/5.0 (Macintosh; Intel Mac OS X 10.11; rv:44.0) Gecko/20100101 Firefox/44.0\"}\n",
        "    ]\n",
        "    try:\n",
        "        response = requests.get(imdict[imid],\n",
        "                                headers=random.choice(browser_headers),\n",
        "                                verify=False)\n",
        "        image_content = response.content\n",
        "    except:\n",
        "        pass\n",
        "    if image_content:\n",
        "        if \"photo_unavailable\" in response.url:\n",
        "            blank_ids.append(imid)\n",
        "            print([imid,imdict[imid]])\n",
        "            return\n",
        "        else:\n",
        "            complete_file_path = os.path.join(dir_path, imid+'.jpg')\n",
        "            with open(complete_file_path, \"wb\") as f:\n",
        "                f.write(image_content)\n",
        "                f.close()"
      ],
      "execution_count": 0,
      "outputs": []
    },
    {
      "metadata": {
        "id": "XpxHauiK3lf3",
        "colab_type": "code",
        "colab": {}
      },
      "cell_type": "code",
      "source": [
        "trainpath = \"/content/images/train/\""
      ],
      "execution_count": 0,
      "outputs": []
    },
    {
      "metadata": {
        "id": "ls5FRwnqPD4n",
        "colab_type": "code",
        "colab": {}
      },
      "cell_type": "code",
      "source": [
        "def downloadTrain(imid):\n",
        "  global imagesdict\n",
        "  global trainpath\n",
        "  download(imid,imagesdict,trainpath)"
      ],
      "execution_count": 0,
      "outputs": []
    },
    {
      "metadata": {
        "id": "QPml5Mzy37jR",
        "colab_type": "code",
        "colab": {}
      },
      "cell_type": "code",
      "source": [
        "import urllib3\n",
        "urllib3.disable_warnings(urllib3.exceptions.InsecureRequestWarning)\n",
        "parallel_process(ids_to_download,downloadTrain)"
      ],
      "execution_count": 0,
      "outputs": []
    },
    {
      "metadata": {
        "id": "AeTKFLGkKX3C",
        "colab_type": "code",
        "colab": {}
      },
      "cell_type": "code",
      "source": [
        "files = os.listdir(\"images/train\")"
      ],
      "execution_count": 0,
      "outputs": []
    },
    {
      "metadata": {
        "id": "d8pbOQaTKzr8",
        "colab_type": "code",
        "outputId": "f8bc8ea6-4744-48c3-9fde-532eb096081f",
        "colab": {
          "base_uri": "https://localhost:8080/",
          "height": 34
        }
      },
      "cell_type": "code",
      "source": [
        "len(files)"
      ],
      "execution_count": 0,
      "outputs": [
        {
          "output_type": "execute_result",
          "data": {
            "text/plain": [
              "20926"
            ]
          },
          "metadata": {
            "tags": []
          },
          "execution_count": 132
        }
      ]
    },
    {
      "metadata": {
        "id": "EySDB3rlK2iv",
        "colab_type": "code",
        "colab": {}
      },
      "cell_type": "code",
      "source": [
        "valid_ids = map(lambda x:x[:-4],files)"
      ],
      "execution_count": 0,
      "outputs": []
    },
    {
      "metadata": {
        "id": "mqQw8lI2LJDu",
        "colab_type": "code",
        "colab": {}
      },
      "cell_type": "code",
      "source": [
        "training_df_pruned = training_df[training_df[\"ImageID\"].isin(valid_ids)]"
      ],
      "execution_count": 0,
      "outputs": []
    },
    {
      "metadata": {
        "id": "LcslQzEDQ95c",
        "colab_type": "code",
        "outputId": "985c91b4-da8c-4846-fb13-71ee69de0f8d",
        "colab": {
          "base_uri": "https://localhost:8080/",
          "height": 188
        }
      },
      "cell_type": "code",
      "source": [
        "!ls images/train | head"
      ],
      "execution_count": 0,
      "outputs": [
        {
          "output_type": "stream",
          "text": [
            "00002f4ff380c64c.jpg\n",
            "0000bee39176697a.jpg\n",
            "0001143bfa4f6ae7.jpg\n",
            "00017b732ad103f5.jpg\n",
            "0001c6bf48e16ab2.jpg\n",
            "000228608388803f.jpg\n",
            "000256419f7c57d8.jpg\n",
            "00032f52bcf81a58.jpg\n",
            "00035b31f27829d6.jpg\n",
            "00041cc3701f7805.jpg\n"
          ],
          "name": "stdout"
        }
      ]
    },
    {
      "metadata": {
        "id": "e3uyhTCgXUnI",
        "colab_type": "code",
        "colab": {}
      },
      "cell_type": "code",
      "source": [
        "!find images/train -name '*.jpg?zz=1' -type f -delete"
      ],
      "execution_count": 0,
      "outputs": []
    },
    {
      "metadata": {
        "id": "Dfmr4MI-XtVj",
        "colab_type": "code",
        "outputId": "acc64f10-5f1f-4cc8-daa4-44f443c97d55",
        "colab": {
          "base_uri": "https://localhost:8080/",
          "height": 188
        }
      },
      "cell_type": "code",
      "source": [
        "!ls images/train | tail"
      ],
      "execution_count": 0,
      "outputs": [
        {
          "output_type": "stream",
          "text": [
            "ffd46a18b1f7c3b2.jpg\n",
            "ffd4d144e84b4455.jpg\n",
            "ffd92290c6d77e96.jpg\n",
            "ffdc31c7d43a27fd.jpg\n",
            "ffde601e84267a29.jpg\n",
            "ffe2c8dea1219765.jpg\n",
            "ffe548719e6f4947.jpg\n",
            "ffe925c7082611d5.jpg\n",
            "fff7c7593ded46c6.jpg\n",
            "fff7e50f2824afe0.jpg\n"
          ],
          "name": "stdout"
        }
      ]
    },
    {
      "metadata": {
        "id": "X1w2OEnEYs3e",
        "colab_type": "text"
      },
      "cell_type": "markdown",
      "source": [
        "### Prepare CSV for RetinaNet"
      ]
    },
    {
      "metadata": {
        "id": "7QzM222UYPhX",
        "colab_type": "code",
        "outputId": "f5e067f6-d25d-4c0d-9be1-6af95b4aeded",
        "colab": {
          "base_uri": "https://localhost:8080/",
          "height": 203
        }
      },
      "cell_type": "code",
      "source": [
        "training_df_pruned.head()"
      ],
      "execution_count": 0,
      "outputs": [
        {
          "output_type": "execute_result",
          "data": {
            "text/html": [
              "<div>\n",
              "<style scoped>\n",
              "    .dataframe tbody tr th:only-of-type {\n",
              "        vertical-align: middle;\n",
              "    }\n",
              "\n",
              "    .dataframe tbody tr th {\n",
              "        vertical-align: top;\n",
              "    }\n",
              "\n",
              "    .dataframe thead th {\n",
              "        text-align: right;\n",
              "    }\n",
              "</style>\n",
              "<table border=\"1\" class=\"dataframe\">\n",
              "  <thead>\n",
              "    <tr style=\"text-align: right;\">\n",
              "      <th></th>\n",
              "      <th>ImageID</th>\n",
              "      <th>Source</th>\n",
              "      <th>LabelName</th>\n",
              "      <th>Confidence</th>\n",
              "      <th>XMin</th>\n",
              "      <th>XMax</th>\n",
              "      <th>YMin</th>\n",
              "      <th>YMax</th>\n",
              "    </tr>\n",
              "  </thead>\n",
              "  <tbody>\n",
              "    <tr>\n",
              "      <th>0</th>\n",
              "      <td>400bc9e0aed700ec</td>\n",
              "      <td>human</td>\n",
              "      <td>/m/0bt9lr</td>\n",
              "      <td>1</td>\n",
              "      <td>0.056</td>\n",
              "      <td>0.787</td>\n",
              "      <td>0.143</td>\n",
              "      <td>0.852</td>\n",
              "    </tr>\n",
              "    <tr>\n",
              "      <th>1</th>\n",
              "      <td>13dcbd74e1ec918f</td>\n",
              "      <td>human</td>\n",
              "      <td>/m/01g317</td>\n",
              "      <td>1</td>\n",
              "      <td>0.526</td>\n",
              "      <td>0.944</td>\n",
              "      <td>0.311</td>\n",
              "      <td>0.814</td>\n",
              "    </tr>\n",
              "    <tr>\n",
              "      <th>2</th>\n",
              "      <td>6eb9c5dc512de3da</td>\n",
              "      <td>human</td>\n",
              "      <td>/m/0bt9lr</td>\n",
              "      <td>1</td>\n",
              "      <td>0.033</td>\n",
              "      <td>0.549</td>\n",
              "      <td>0.651</td>\n",
              "      <td>0.989</td>\n",
              "    </tr>\n",
              "    <tr>\n",
              "      <th>3</th>\n",
              "      <td>01aa3b95245433a7</td>\n",
              "      <td>human</td>\n",
              "      <td>/m/0199g</td>\n",
              "      <td>1</td>\n",
              "      <td>0.263</td>\n",
              "      <td>0.723</td>\n",
              "      <td>0.418</td>\n",
              "      <td>0.909</td>\n",
              "    </tr>\n",
              "    <tr>\n",
              "      <th>4</th>\n",
              "      <td>0b0ceef90723b6d0</td>\n",
              "      <td>human</td>\n",
              "      <td>/m/0bt9lr</td>\n",
              "      <td>1</td>\n",
              "      <td>0.059</td>\n",
              "      <td>0.703</td>\n",
              "      <td>0.028</td>\n",
              "      <td>0.901</td>\n",
              "    </tr>\n",
              "  </tbody>\n",
              "</table>\n",
              "</div>"
            ],
            "text/plain": [
              "            ImageID Source  LabelName  Confidence   XMin   XMax   YMin   YMax\n",
              "0  400bc9e0aed700ec  human  /m/0bt9lr           1  0.056  0.787  0.143  0.852\n",
              "1  13dcbd74e1ec918f  human  /m/01g317           1  0.526  0.944  0.311  0.814\n",
              "2  6eb9c5dc512de3da  human  /m/0bt9lr           1  0.033  0.549  0.651  0.989\n",
              "3  01aa3b95245433a7  human   /m/0199g           1  0.263  0.723  0.418  0.909\n",
              "4  0b0ceef90723b6d0  human  /m/0bt9lr           1  0.059  0.703  0.028  0.901"
            ]
          },
          "metadata": {
            "tags": []
          },
          "execution_count": 135
        }
      ]
    },
    {
      "metadata": {
        "id": "5pw0B-tVLaSw",
        "colab_type": "code",
        "outputId": "f88bbaca-7fcc-4bb6-d5b3-9f3ba2e35928",
        "colab": {
          "base_uri": "https://localhost:8080/",
          "height": 120
        }
      },
      "cell_type": "code",
      "source": [
        "training_df_pruned.groupby('LabelName')['ImageID'].nunique()"
      ],
      "execution_count": 0,
      "outputs": [
        {
          "output_type": "execute_result",
          "data": {
            "text/plain": [
              "LabelName\n",
              "/m/0199g     4842\n",
              "/m/01g317    6783\n",
              "/m/0bt9lr    6548\n",
              "/m/0k4j      5176\n",
              "Name: ImageID, dtype: int64"
            ]
          },
          "metadata": {
            "tags": []
          },
          "execution_count": 119
        }
      ]
    },
    {
      "metadata": {
        "id": "weyAQ5uXZpeA",
        "colab_type": "code",
        "outputId": "fe89af21-543f-4111-fa7f-2c71623e647b",
        "colab": {
          "base_uri": "https://localhost:8080/",
          "height": 140
        }
      },
      "cell_type": "code",
      "source": [
        "training_df_pruned[\"ImagePath\"]=trainpath+training_df_pruned[\"ImageID\"]+\".jpg\""
      ],
      "execution_count": 0,
      "outputs": [
        {
          "output_type": "stream",
          "text": [
            "/usr/local/lib/python3.6/dist-packages/ipykernel_launcher.py:1: SettingWithCopyWarning: \n",
            "A value is trying to be set on a copy of a slice from a DataFrame.\n",
            "Try using .loc[row_indexer,col_indexer] = value instead\n",
            "\n",
            "See the caveats in the documentation: http://pandas.pydata.org/pandas-docs/stable/indexing.html#indexing-view-versus-copy\n",
            "  \"\"\"Entry point for launching an IPython kernel.\n"
          ],
          "name": "stderr"
        }
      ]
    },
    {
      "metadata": {
        "id": "hBgM6gEQY9gv",
        "colab_type": "text"
      },
      "cell_type": "markdown",
      "source": [
        "Desired format:\n",
        "`path/to/image.jpg,x1,y1,x2,y2,class_name`"
      ]
    },
    {
      "metadata": {
        "id": "kBzXE7NpY3V5",
        "colab_type": "code",
        "colab": {}
      },
      "cell_type": "code",
      "source": [
        "retinanet_training_df = training_df_pruned[[\"ImagePath\", \"XMin\", \"YMin\", \"XMax\", \"YMax\", \"LabelName\"]].copy()"
      ],
      "execution_count": 0,
      "outputs": []
    },
    {
      "metadata": {
        "id": "4akcDlOEZWhD",
        "colab_type": "code",
        "outputId": "3b2a195f-e8a9-4813-a6cf-248a2d0d4566",
        "colab": {
          "base_uri": "https://localhost:8080/",
          "height": 203
        }
      },
      "cell_type": "code",
      "source": [
        "retinanet_training_df.head()"
      ],
      "execution_count": 0,
      "outputs": [
        {
          "output_type": "execute_result",
          "data": {
            "text/html": [
              "<div>\n",
              "<style scoped>\n",
              "    .dataframe tbody tr th:only-of-type {\n",
              "        vertical-align: middle;\n",
              "    }\n",
              "\n",
              "    .dataframe tbody tr th {\n",
              "        vertical-align: top;\n",
              "    }\n",
              "\n",
              "    .dataframe thead th {\n",
              "        text-align: right;\n",
              "    }\n",
              "</style>\n",
              "<table border=\"1\" class=\"dataframe\">\n",
              "  <thead>\n",
              "    <tr style=\"text-align: right;\">\n",
              "      <th></th>\n",
              "      <th>ImagePath</th>\n",
              "      <th>XMin</th>\n",
              "      <th>YMin</th>\n",
              "      <th>XMax</th>\n",
              "      <th>YMax</th>\n",
              "      <th>LabelName</th>\n",
              "    </tr>\n",
              "  </thead>\n",
              "  <tbody>\n",
              "    <tr>\n",
              "      <th>0</th>\n",
              "      <td>/content/images/train/400bc9e0aed700ec.jpg</td>\n",
              "      <td>0.056</td>\n",
              "      <td>0.143</td>\n",
              "      <td>0.787</td>\n",
              "      <td>0.852</td>\n",
              "      <td>/m/0bt9lr</td>\n",
              "    </tr>\n",
              "    <tr>\n",
              "      <th>1</th>\n",
              "      <td>/content/images/train/13dcbd74e1ec918f.jpg</td>\n",
              "      <td>0.526</td>\n",
              "      <td>0.311</td>\n",
              "      <td>0.944</td>\n",
              "      <td>0.814</td>\n",
              "      <td>/m/01g317</td>\n",
              "    </tr>\n",
              "    <tr>\n",
              "      <th>2</th>\n",
              "      <td>/content/images/train/6eb9c5dc512de3da.jpg</td>\n",
              "      <td>0.033</td>\n",
              "      <td>0.651</td>\n",
              "      <td>0.549</td>\n",
              "      <td>0.989</td>\n",
              "      <td>/m/0bt9lr</td>\n",
              "    </tr>\n",
              "    <tr>\n",
              "      <th>3</th>\n",
              "      <td>/content/images/train/01aa3b95245433a7.jpg</td>\n",
              "      <td>0.263</td>\n",
              "      <td>0.418</td>\n",
              "      <td>0.723</td>\n",
              "      <td>0.909</td>\n",
              "      <td>/m/0199g</td>\n",
              "    </tr>\n",
              "    <tr>\n",
              "      <th>4</th>\n",
              "      <td>/content/images/train/0b0ceef90723b6d0.jpg</td>\n",
              "      <td>0.059</td>\n",
              "      <td>0.028</td>\n",
              "      <td>0.703</td>\n",
              "      <td>0.901</td>\n",
              "      <td>/m/0bt9lr</td>\n",
              "    </tr>\n",
              "  </tbody>\n",
              "</table>\n",
              "</div>"
            ],
            "text/plain": [
              "                                    ImagePath   XMin   YMin   XMax   YMax  \\\n",
              "0  /content/images/train/400bc9e0aed700ec.jpg  0.056  0.143  0.787  0.852   \n",
              "1  /content/images/train/13dcbd74e1ec918f.jpg  0.526  0.311  0.944  0.814   \n",
              "2  /content/images/train/6eb9c5dc512de3da.jpg  0.033  0.651  0.549  0.989   \n",
              "3  /content/images/train/01aa3b95245433a7.jpg  0.263  0.418  0.723  0.909   \n",
              "4  /content/images/train/0b0ceef90723b6d0.jpg  0.059  0.028  0.703  0.901   \n",
              "\n",
              "   LabelName  \n",
              "0  /m/0bt9lr  \n",
              "1  /m/01g317  \n",
              "2  /m/0bt9lr  \n",
              "3   /m/0199g  \n",
              "4  /m/0bt9lr  "
            ]
          },
          "metadata": {
            "tags": []
          },
          "execution_count": 138
        }
      ]
    },
    {
      "metadata": {
        "id": "owwvSxHIhNlS",
        "colab_type": "text"
      },
      "cell_type": "markdown",
      "source": [
        "### Convert to Absolute Coordinates"
      ]
    },
    {
      "metadata": {
        "id": "Xg0Y9_MeL6qY",
        "colab_type": "code",
        "colab": {}
      },
      "cell_type": "code",
      "source": [
        "!apt-get install file"
      ],
      "execution_count": 0,
      "outputs": []
    },
    {
      "metadata": {
        "id": "XuEkj_XsLpUX",
        "colab_type": "code",
        "outputId": "78e1f4d4-0e24-4da4-f1e5-009ae9bbeabe",
        "colab": {
          "base_uri": "https://localhost:8080/",
          "height": 34
        }
      },
      "cell_type": "code",
      "source": [
        "!find /content/images/train/ -type f -exec file --mime-type {} \\; | awk '{if ($NF != \"image/jpeg\"  && $NF != \"image/png\") print $0 }'"
      ],
      "execution_count": 0,
      "outputs": [
        {
          "output_type": "stream",
          "text": [
            "/content/images/train/107ca64cf3e5f202.jpg: text/html\n"
          ],
          "name": "stdout"
        }
      ]
    },
    {
      "metadata": {
        "id": "hd67OEMVs0FB",
        "colab_type": "code",
        "colab": {}
      },
      "cell_type": "code",
      "source": [
        "!rm /content/images/train/107ca64cf3e5f202.jpg"
      ],
      "execution_count": 0,
      "outputs": []
    },
    {
      "metadata": {
        "id": "lTU1xCLPMEiW",
        "colab_type": "code",
        "colab": {}
      },
      "cell_type": "code",
      "source": [
        "failed_imgs = [\"18e794692d6a543d\", \"65da830c7cca13a3\", \"67d945735766236d\", \"d2502dd675603d15\", \"82955dd9958c3845\", \"3d4990e3185cb084\", \"85c1f4006d3768b9\", \"635eade7eb418867\", \"1441d017b4a7e616\", \"4330f97fc956a539\", \"3e45dc4dee95a267\", \"29b335538ea75f07\", \"00a69bc90e2ccdbd\", \"892e053d14402291\", \"311125c65b54ce6c\", \"25c772ad84f001c8\", \"b67609b6ead9af9b\", \"01e1151f480df739\", \"233ac16a82f0f90b\", \"f882d05782148cd1\", \"180d4827b6df6d70\", \"d1da5e2176e0d42f\", \"5261712bd6f0e5b7\", \"afe1f30a264bd4d0\", \"80297aa929c32688\", \"16e40cfbc0c94292\", \"54922b86a648bcdd\", \"d21ab89690dfe766\", \"9bb73a5678a8fb18\", \"0c4bdeb9d5d6f65f\", \"d30282fd3c962447\", \"700afeb8f54b3982\", \"221604927bec7f56\", \"22565bf1dd1dfa9a\", \"875d1df0a82fda0c\", \"107ca64cf3e5f202\", \"f670dc6c14ecf85e\"]"
      ],
      "execution_count": 0,
      "outputs": []
    },
    {
      "metadata": {
        "colab_type": "code",
        "id": "h1cjwX1DORmS",
        "colab": {}
      },
      "cell_type": "code",
      "source": [
        "def retryFile(id):\n",
        "  os.remove(\"/content/images/train/\"+id+\".jpg\")\n",
        "  return downloadTrain(id)  "
      ],
      "execution_count": 0,
      "outputs": []
    },
    {
      "metadata": {
        "colab_type": "code",
        "outputId": "8d74be1e-eaed-4b24-b759-23829cd43c1b",
        "id": "7rPyc5ozORmD",
        "colab": {
          "base_uri": "https://localhost:8080/",
          "height": 926
        }
      },
      "cell_type": "code",
      "source": [
        "list(map(retryFile,failed_imgs))"
      ],
      "execution_count": 0,
      "outputs": [
        {
          "output_type": "stream",
          "text": [
            "['18e794692d6a543d', 'https://c7.staticflickr.com/5/4008/4322543826_ef18d290fe_z.jpg']\n",
            "['65da830c7cca13a3', 'https://c1.staticflickr.com/4/3790/13740344905_04f36b15ed_z.jpg']\n",
            "['67d945735766236d', 'https://c5.staticflickr.com/4/3546/13009263524_813a4d96ff_z.jpg']\n",
            "['d2502dd675603d15', 'https://c1.staticflickr.com/4/3184/5727966578_7b31989232_z.jpg']\n",
            "['82955dd9958c3845', 'https://c6.staticflickr.com/2/1003/780224172_25e747cbf2_z.jpg']\n",
            "['1441d017b4a7e616', 'https://c8.staticflickr.com/4/3569/3416798719_b97fe07764_z.jpg']\n",
            "['4330f97fc956a539', 'https://c5.staticflickr.com/2/1255/536248566_d6a2c283f3_z.jpg']\n",
            "['3e45dc4dee95a267', 'https://c8.staticflickr.com/4/3397/3626469177_12c97a30b0_z.jpg']\n",
            "['29b335538ea75f07', 'https://c4.staticflickr.com/9/8023/7278920768_82d32281a3_z.jpg']\n",
            "['892e053d14402291', 'https://c7.staticflickr.com/6/5341/17923413062_b647deb41e_z.jpg']\n",
            "['25c772ad84f001c8', 'https://c8.staticflickr.com/8/7786/17372554131_d2ef61675c_z.jpg']\n",
            "['180d4827b6df6d70', 'https://c6.staticflickr.com/4/3262/2488231661_60922379ff_z.jpg']\n",
            "['54922b86a648bcdd', 'https://c2.staticflickr.com/8/7353/14129817074_3258e9c960_z.jpg']\n",
            "['d30282fd3c962447', 'https://c8.staticflickr.com/6/5603/14962786193_bf1a7d79d7_z.jpg']\n",
            "['22565bf1dd1dfa9a', 'https://c8.staticflickr.com/4/3937/15539709569_a981a001cb_z.jpg']\n",
            "['f670dc6c14ecf85e', 'https://c6.staticflickr.com/1/425/18951897531_7723ae691f_z.jpg']\n"
          ],
          "name": "stdout"
        },
        {
          "output_type": "execute_result",
          "data": {
            "text/plain": [
              "[None,\n",
              " None,\n",
              " None,\n",
              " None,\n",
              " None,\n",
              " None,\n",
              " None,\n",
              " None,\n",
              " None,\n",
              " None,\n",
              " None,\n",
              " None,\n",
              " None,\n",
              " None,\n",
              " None,\n",
              " None,\n",
              " None,\n",
              " None,\n",
              " None,\n",
              " None,\n",
              " None,\n",
              " None,\n",
              " None,\n",
              " None,\n",
              " None,\n",
              " None,\n",
              " None,\n",
              " None,\n",
              " None,\n",
              " None,\n",
              " None,\n",
              " None,\n",
              " None,\n",
              " None,\n",
              " None,\n",
              " None,\n",
              " None]"
            ]
          },
          "metadata": {
            "tags": []
          },
          "execution_count": 110
        }
      ]
    },
    {
      "metadata": {
        "id": "2kQg1yfrNF2u",
        "colab_type": "code",
        "colab": {}
      },
      "cell_type": "code",
      "source": [
        ""
      ],
      "execution_count": 0,
      "outputs": []
    },
    {
      "metadata": {
        "id": "dIoy16vOhmFT",
        "colab_type": "code",
        "colab": {}
      },
      "cell_type": "code",
      "source": [
        "import cv2\n",
        "def relToAbs(x):\n",
        "  #print(x[\"ImagePath\"])\n",
        "  img = cv2.imread(x[\"ImagePath\"],cv2.IMREAD_UNCHANGED)\n",
        "  height = img.shape[0]\n",
        "  width = img.shape[1]\n",
        "  x[\"XMin\"]=x[\"XMin\"]*width\n",
        "  x[\"XMax\"]=x[\"XMax\"]*width\n",
        "  x[\"YMin\"]=x[\"YMin\"]*height\n",
        "  x[\"YMax\"]=x[\"YMax\"]*height\n",
        "  return x\n",
        "tqdm.pandas()\n",
        "retinanet_training_abs = retinanet_training_df.progress_apply(relToAbs,axis=1)"
      ],
      "execution_count": 0,
      "outputs": []
    },
    {
      "metadata": {
        "id": "cCee-mZ1wYNB",
        "colab_type": "code",
        "colab": {}
      },
      "cell_type": "code",
      "source": [
        "!find --help"
      ],
      "execution_count": 0,
      "outputs": []
    },
    {
      "metadata": {
        "id": "5_dSsx_Ywu-o",
        "colab_type": "code",
        "outputId": "efc197bc-18dc-4d9c-f07f-b02a4b17a1a0",
        "colab": {
          "base_uri": "https://localhost:8080/",
          "height": 188
        }
      },
      "cell_type": "code",
      "source": [
        "!ls /content/images/train | head"
      ],
      "execution_count": 0,
      "outputs": [
        {
          "output_type": "stream",
          "text": [
            "00002f4ff380c64c.jpg\n",
            "0000bee39176697a.jpg\n",
            "0001143bfa4f6ae7.jpg\n",
            "00017b732ad103f5.jpg\n",
            "0001c6bf48e16ab2.jpg\n",
            "000228608388803f.jpg\n",
            "000256419f7c57d8.jpg\n",
            "00032f52bcf81a58.jpg\n",
            "00035b31f27829d6.jpg\n",
            "00041cc3701f7805.jpg\n"
          ],
          "name": "stdout"
        }
      ]
    },
    {
      "metadata": {
        "id": "8SHK14Jrw3Fv",
        "colab_type": "code",
        "colab": {}
      },
      "cell_type": "code",
      "source": [
        "!file"
      ],
      "execution_count": 0,
      "outputs": []
    },
    {
      "metadata": {
        "id": "iIFbOkG3zASX",
        "colab_type": "code",
        "colab": {}
      },
      "cell_type": "code",
      "source": [
        ""
      ],
      "execution_count": 0,
      "outputs": []
    },
    {
      "metadata": {
        "id": "uW7uy8ARoOHk",
        "colab_type": "code",
        "outputId": "b152c91c-926c-4384-a2f4-220ffc4a51ff",
        "colab": {
          "base_uri": "https://localhost:8080/",
          "height": 203
        }
      },
      "cell_type": "code",
      "source": [
        "retinanet_training_df.sort_values(\"ImagePath\",na_position=\"first\",ascending=False).head()"
      ],
      "execution_count": 0,
      "outputs": [
        {
          "output_type": "execute_result",
          "data": {
            "text/html": [
              "<div>\n",
              "<style scoped>\n",
              "    .dataframe tbody tr th:only-of-type {\n",
              "        vertical-align: middle;\n",
              "    }\n",
              "\n",
              "    .dataframe tbody tr th {\n",
              "        vertical-align: top;\n",
              "    }\n",
              "\n",
              "    .dataframe thead th {\n",
              "        text-align: right;\n",
              "    }\n",
              "</style>\n",
              "<table border=\"1\" class=\"dataframe\">\n",
              "  <thead>\n",
              "    <tr style=\"text-align: right;\">\n",
              "      <th></th>\n",
              "      <th>ImagePath</th>\n",
              "      <th>XMin</th>\n",
              "      <th>YMin</th>\n",
              "      <th>XMax</th>\n",
              "      <th>YMax</th>\n",
              "      <th>LabelName</th>\n",
              "    </tr>\n",
              "  </thead>\n",
              "  <tbody>\n",
              "    <tr>\n",
              "      <th>20384</th>\n",
              "      <td>/content/images/train/fff7e50f2824afe0.jpg</td>\n",
              "      <td>0.156</td>\n",
              "      <td>0.021</td>\n",
              "      <td>0.939</td>\n",
              "      <td>1.000</td>\n",
              "      <td>/m/0bt9lr</td>\n",
              "    </tr>\n",
              "    <tr>\n",
              "      <th>8836</th>\n",
              "      <td>/content/images/train/fff7c7593ded46c6.jpg</td>\n",
              "      <td>0.139</td>\n",
              "      <td>0.031</td>\n",
              "      <td>0.525</td>\n",
              "      <td>0.958</td>\n",
              "      <td>/m/01g317</td>\n",
              "    </tr>\n",
              "    <tr>\n",
              "      <th>23213</th>\n",
              "      <td>/content/images/train/ffe925c7082611d5.jpg</td>\n",
              "      <td>0.057</td>\n",
              "      <td>0.405</td>\n",
              "      <td>0.920</td>\n",
              "      <td>0.738</td>\n",
              "      <td>/m/0k4j</td>\n",
              "    </tr>\n",
              "    <tr>\n",
              "      <th>5009</th>\n",
              "      <td>/content/images/train/ffe548719e6f4947.jpg</td>\n",
              "      <td>0.510</td>\n",
              "      <td>0.510</td>\n",
              "      <td>0.989</td>\n",
              "      <td>0.993</td>\n",
              "      <td>/m/0k4j</td>\n",
              "    </tr>\n",
              "    <tr>\n",
              "      <th>4802</th>\n",
              "      <td>/content/images/train/ffe2c8dea1219765.jpg</td>\n",
              "      <td>0.318</td>\n",
              "      <td>0.196</td>\n",
              "      <td>0.795</td>\n",
              "      <td>0.896</td>\n",
              "      <td>/m/01g317</td>\n",
              "    </tr>\n",
              "  </tbody>\n",
              "</table>\n",
              "</div>"
            ],
            "text/plain": [
              "                                        ImagePath   XMin   YMin   XMax   YMax  \\\n",
              "20384  /content/images/train/fff7e50f2824afe0.jpg  0.156  0.021  0.939  1.000   \n",
              "8836   /content/images/train/fff7c7593ded46c6.jpg  0.139  0.031  0.525  0.958   \n",
              "23213  /content/images/train/ffe925c7082611d5.jpg  0.057  0.405  0.920  0.738   \n",
              "5009   /content/images/train/ffe548719e6f4947.jpg  0.510  0.510  0.989  0.993   \n",
              "4802   /content/images/train/ffe2c8dea1219765.jpg  0.318  0.196  0.795  0.896   \n",
              "\n",
              "       LabelName  \n",
              "20384  /m/0bt9lr  \n",
              "8836   /m/01g317  \n",
              "23213    /m/0k4j  \n",
              "5009     /m/0k4j  \n",
              "4802   /m/01g317  "
            ]
          },
          "metadata": {
            "tags": []
          },
          "execution_count": 125
        }
      ]
    },
    {
      "metadata": {
        "id": "Tpme0cVZjliH",
        "colab_type": "code",
        "colab": {}
      },
      "cell_type": "code",
      "source": [
        "retinanet_training_abs = retinanet_training_abs.sample(frac=1).reset_index(drop=True)"
      ],
      "execution_count": 0,
      "outputs": []
    },
    {
      "metadata": {
        "id": "vrZCF5GzoHhy",
        "colab_type": "code",
        "colab": {}
      },
      "cell_type": "code",
      "source": [
        "retinanet_training_abs_bk = retinanet_training_abs"
      ],
      "execution_count": 0,
      "outputs": []
    },
    {
      "metadata": {
        "id": "99pDn6P-noxW",
        "colab_type": "code",
        "outputId": "3a6b0194-33b9-4d4f-89f3-9b02dd623e4c",
        "colab": {
          "base_uri": "https://localhost:8080/",
          "height": 203
        }
      },
      "cell_type": "code",
      "source": [
        "retinanet_training_abs.head()"
      ],
      "execution_count": 0,
      "outputs": [
        {
          "output_type": "execute_result",
          "data": {
            "text/html": [
              "<div>\n",
              "<style scoped>\n",
              "    .dataframe tbody tr th:only-of-type {\n",
              "        vertical-align: middle;\n",
              "    }\n",
              "\n",
              "    .dataframe tbody tr th {\n",
              "        vertical-align: top;\n",
              "    }\n",
              "\n",
              "    .dataframe thead th {\n",
              "        text-align: right;\n",
              "    }\n",
              "</style>\n",
              "<table border=\"1\" class=\"dataframe\">\n",
              "  <thead>\n",
              "    <tr style=\"text-align: right;\">\n",
              "      <th></th>\n",
              "      <th>ImagePath</th>\n",
              "      <th>XMin</th>\n",
              "      <th>YMin</th>\n",
              "      <th>XMax</th>\n",
              "      <th>YMax</th>\n",
              "      <th>LabelName</th>\n",
              "    </tr>\n",
              "  </thead>\n",
              "  <tbody>\n",
              "    <tr>\n",
              "      <th>0</th>\n",
              "      <td>/content/images/train/b2f08cb88eb29c60.jpg</td>\n",
              "      <td>522.24</td>\n",
              "      <td>54.329</td>\n",
              "      <td>620.16</td>\n",
              "      <td>360.996</td>\n",
              "      <td>/m/01g317</td>\n",
              "    </tr>\n",
              "    <tr>\n",
              "      <th>1</th>\n",
              "      <td>/content/images/train/7882964936f5fe37.jpg</td>\n",
              "      <td>96.64</td>\n",
              "      <td>74.124</td>\n",
              "      <td>542.08</td>\n",
              "      <td>369.768</td>\n",
              "      <td>/m/0k4j</td>\n",
              "    </tr>\n",
              "    <tr>\n",
              "      <th>2</th>\n",
              "      <td>/content/images/train/4cb10d3dacd8fdae.jpg</td>\n",
              "      <td>124.16</td>\n",
              "      <td>31.875</td>\n",
              "      <td>403.20</td>\n",
              "      <td>385.475</td>\n",
              "      <td>/m/0bt9lr</td>\n",
              "    </tr>\n",
              "    <tr>\n",
              "      <th>3</th>\n",
              "      <td>/content/images/train/6d878e08d9b73bd0.jpg</td>\n",
              "      <td>35.84</td>\n",
              "      <td>58.624</td>\n",
              "      <td>620.16</td>\n",
              "      <td>443.802</td>\n",
              "      <td>/m/0199g</td>\n",
              "    </tr>\n",
              "    <tr>\n",
              "      <th>4</th>\n",
              "      <td>/content/images/train/2b95d39a53436ac8.jpg</td>\n",
              "      <td>228.48</td>\n",
              "      <td>86.681</td>\n",
              "      <td>410.88</td>\n",
              "      <td>382.165</td>\n",
              "      <td>/m/01g317</td>\n",
              "    </tr>\n",
              "  </tbody>\n",
              "</table>\n",
              "</div>"
            ],
            "text/plain": [
              "                                    ImagePath    XMin    YMin    XMax  \\\n",
              "0  /content/images/train/b2f08cb88eb29c60.jpg  522.24  54.329  620.16   \n",
              "1  /content/images/train/7882964936f5fe37.jpg   96.64  74.124  542.08   \n",
              "2  /content/images/train/4cb10d3dacd8fdae.jpg  124.16  31.875  403.20   \n",
              "3  /content/images/train/6d878e08d9b73bd0.jpg   35.84  58.624  620.16   \n",
              "4  /content/images/train/2b95d39a53436ac8.jpg  228.48  86.681  410.88   \n",
              "\n",
              "      YMax  LabelName  \n",
              "0  360.996  /m/01g317  \n",
              "1  369.768    /m/0k4j  \n",
              "2  385.475  /m/0bt9lr  \n",
              "3  443.802   /m/0199g  \n",
              "4  382.165  /m/01g317  "
            ]
          },
          "metadata": {
            "tags": []
          },
          "execution_count": 142
        }
      ]
    },
    {
      "metadata": {
        "id": "FHjn9rjGn_hG",
        "colab_type": "code",
        "colab": {}
      },
      "cell_type": "code",
      "source": [
        "retinanet_training_abs[\"XMin\"]=retinanet_training_abs[\"XMin\"].round().astype(int)\n",
        "retinanet_training_abs[\"XMax\"]=retinanet_training_abs[\"XMax\"].round().astype(int)\n",
        "retinanet_training_abs[\"YMin\"]=retinanet_training_abs[\"YMin\"].round().astype(int)\n",
        "retinanet_training_abs[\"YMax\"]=retinanet_training_abs[\"YMax\"].round().astype(int)"
      ],
      "execution_count": 0,
      "outputs": []
    },
    {
      "metadata": {
        "id": "dXgHkAzWZlN2",
        "colab_type": "code",
        "colab": {}
      },
      "cell_type": "code",
      "source": [
        "retinanet_training_csv = retinanet_training_abs.to_csv(index=False,header=False)"
      ],
      "execution_count": 0,
      "outputs": []
    },
    {
      "metadata": {
        "id": "u03rQP8RanN9",
        "colab_type": "code",
        "outputId": "3362b9a7-1ba2-4b2c-efbf-56e9998eed00",
        "colab": {
          "base_uri": "https://localhost:8080/",
          "height": 34
        }
      },
      "cell_type": "code",
      "source": [
        "retinanet_training_csv[:100]"
      ],
      "execution_count": 0,
      "outputs": [
        {
          "output_type": "execute_result",
          "data": {
            "text/plain": [
              "'/content/images/train/b2f08cb88eb29c60.jpg,522,54,620,361,/m/01g317\\n/content/images/train/7882964936'"
            ]
          },
          "metadata": {
            "tags": []
          },
          "execution_count": 145
        }
      ]
    },
    {
      "metadata": {
        "id": "iwXGVZJ3bcdk",
        "colab_type": "text"
      },
      "cell_type": "markdown",
      "source": [
        "Reminder of classes:\n",
        "```\n",
        "['/m/0k4j', 'Car']\n",
        "['/m/01g317', 'Person']\n",
        "['/m/0199g', 'Stationary bicycle']\n",
        "['/m/0bt9lr', 'Dog']\n",
        "```"
      ]
    },
    {
      "metadata": {
        "id": "y4tzpDJHatPc",
        "colab_type": "code",
        "colab": {}
      },
      "cell_type": "code",
      "source": [
        "retinanet_class_mapping='''/m/0k4j,0\n",
        "/m/01g317,1\n",
        "/m/0199g,2\n",
        "/m/0bt9lr,3'''"
      ],
      "execution_count": 0,
      "outputs": []
    },
    {
      "metadata": {
        "id": "5lX23zYkbp_2",
        "colab_type": "code",
        "outputId": "8d64b625-05c0-40d1-aecb-8bb0acb12bf9",
        "colab": {
          "base_uri": "https://localhost:8080/",
          "height": 34
        }
      },
      "cell_type": "code",
      "source": [
        "!ls"
      ],
      "execution_count": 150,
      "outputs": [
        {
          "output_type": "stream",
          "text": [
            "data  images  retinanet_class_mapping.csv  retinanet_training.csv  sample_data\n"
          ],
          "name": "stdout"
        }
      ]
    },
    {
      "metadata": {
        "id": "Rx1Kj-V4bj4K",
        "colab_type": "code",
        "colab": {}
      },
      "cell_type": "code",
      "source": [
        "with open(\"retinanet_training.csv\", \"w\") as text_file:\n",
        "    text_file.write(retinanet_training_csv)"
      ],
      "execution_count": 0,
      "outputs": []
    },
    {
      "metadata": {
        "id": "Py1wt-IhbuQS",
        "colab_type": "code",
        "colab": {}
      },
      "cell_type": "code",
      "source": [
        "with open(\"retinanet_class_mapping.csv\", \"w\") as text_file:\n",
        "    text_file.write(retinanet_class_mapping)"
      ],
      "execution_count": 0,
      "outputs": []
    },
    {
      "metadata": {
        "id": "CxjKai64oeQw",
        "colab_type": "code",
        "outputId": "0c94143b-dbe3-42dc-a0be-745f2e031a58",
        "colab": {
          "base_uri": "https://localhost:8080/",
          "height": 123
        }
      },
      "cell_type": "code",
      "source": [
        "from google.colab import drive\n",
        "drive.mount('/content/gdrive')"
      ],
      "execution_count": 153,
      "outputs": [
        {
          "output_type": "stream",
          "text": [
            "Go to this URL in a browser: https://accounts.google.com/o/oauth2/auth?client_id=947318989803-6bn6qk8qdgf4n4g3pfee6491hc0brc4i.apps.googleusercontent.com&redirect_uri=urn%3Aietf%3Awg%3Aoauth%3A2.0%3Aoob&scope=email%20https%3A%2F%2Fwww.googleapis.com%2Fauth%2Fdocs.test%20https%3A%2F%2Fwww.googleapis.com%2Fauth%2Fdrive%20https%3A%2F%2Fwww.googleapis.com%2Fauth%2Fdrive.photos.readonly%20https%3A%2F%2Fwww.googleapis.com%2Fauth%2Fpeopleapi.readonly&response_type=code\n",
            "\n",
            "Enter your authorization code:\n",
            "··········\n",
            "Mounted at /content/gdrive\n"
          ],
          "name": "stdout"
        }
      ]
    },
    {
      "metadata": {
        "id": "WkWQiLo1olyw",
        "colab_type": "code",
        "colab": {}
      },
      "cell_type": "code",
      "source": [
        "cp retinanet_training.csv /content/gdrive/My\\ Drive/Waynflete/retinanet_training.csv"
      ],
      "execution_count": 0,
      "outputs": []
    },
    {
      "metadata": {
        "id": "vBfu0QIPovSq",
        "colab_type": "code",
        "colab": {}
      },
      "cell_type": "code",
      "source": [
        "cp retinanet_class_mapping.csv /content/gdrive/My\\ Drive/Waynflete/retinanet_class_mapping.csv"
      ],
      "execution_count": 0,
      "outputs": []
    },
    {
      "metadata": {
        "id": "zal7kDDqEJgh",
        "colab_type": "code",
        "colab": {}
      },
      "cell_type": "code",
      "source": [
        "!tar -zcvf oid-images.tar.gz images"
      ],
      "execution_count": 0,
      "outputs": []
    },
    {
      "metadata": {
        "id": "Tr8lNbCoOAOU",
        "colab_type": "code",
        "colab": {}
      },
      "cell_type": "code",
      "source": [
        "!cp oid-images.tar.gz /content/gdrive/My\\ Drive/Waynflete/oid-street-images.tar.gz"
      ],
      "execution_count": 0,
      "outputs": []
    }
  ]
}